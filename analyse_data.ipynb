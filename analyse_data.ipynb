{
 "metadata": {
  "language_info": {
   "codemirror_mode": {
    "name": "ipython",
    "version": 3
   },
   "file_extension": ".py",
   "mimetype": "text/x-python",
   "name": "python",
   "nbconvert_exporter": "python",
   "pygments_lexer": "ipython3",
   "version": "3.9.1-final"
  },
  "orig_nbformat": 2,
  "kernelspec": {
   "name": "python3",
   "display_name": "Python 3",
   "language": "python"
  }
 },
 "nbformat": 4,
 "nbformat_minor": 2,
 "cells": [
  {
   "cell_type": "code",
   "execution_count": 2,
   "metadata": {},
   "outputs": [],
   "source": []
  },
  {
   "cell_type": "code",
   "execution_count": 94,
   "metadata": {},
   "outputs": [
    {
     "output_type": "stream",
     "name": "stdout",
     "text": [
      "Line1: <!--Olive-->\nOlive\nLine2: {{.child|n=1|col4={{lesbian}}|age={{elder}}|col6={{sim}}|col7=|col9=[[Marcus Flex]]|col10={{old.age}}}}\n[('[[Marcus Flex]]', 'Marcus Flex')]\nMarcus Flex\nLine3: <!--Brielle-->\nBrielle\nLine4: {{.child|n=2|col4={{female}}|age={{elder}}|col6={{sim}}|col7=|col9=[[Dominic Fyres]]|col10={{old.age}}}}\n[('[[Dominic Fyres]]', 'Dominic Fyres')]\nDominic Fyres\nLine5: <!--Jaime-->\nJaime\nLine6: {{.child|n=3|col4={{male}}|age={{elder}}|col6={{sim}}|col7=|col9=[[J Huntington III]]|col10={{old.age}}}}\n[('[[J Huntington III]]', 'J Huntington III')]\nJ Huntington III\nLine7: <!--Alexis-->\nAlexis\nLine8: {{.child|n=4|col4={{female}}|age={{elder}}|col6={{sim}}|col7=|col9=[[Sergio Romeo]]|col10={{old.age}}}}\n[('[[Sergio Romeo]]', 'Sergio Romeo')]\nSergio Romeo\nLine9: <!--Miles-->\nMiles\nLine10: {{.child|n=5|col4={{male}}|age={{elder}}|col6={{sim}}|col7={{twin|#=1}}|col9=[[Lars Rosewood]]|rs=2|col10={{old.age}}}}\n[('[[Lars Rosewood]]', 'Lars Rosewood')]\nLars Rosewood\nLine11: <!--Renee-->\nRenee\nLine12: {{.child.x|n=6|col4={{female}}|age={{elder}}|col6={{sim}}|col10={{old.age}}}}\n[]\nLars Rosewood\nLine13: <!--Charlie-->\nCharlie\nLine14: {{.child|n=7|col4={{male}}|age={{elder}}|col6={{sim}}|col7=|col9=[[Craig Slater]]|col10={{old.age}}}}\n[('[[Craig Slater]]', 'Craig Slater')]\nCraig Slater\nLine15: <!--Hazel-->\nHazel\nLine16: {{.child|n=8|col4={{female}}|age={{elder}}|col6={{sim}}|col7=|col9=[[Kim Mingyu]]|col10={{old.age}}}}\n[('[[Kim Mingyu]]', 'Kim Mingyu')]\nKim Mingyu\nLine17: <!--Eric-->\nEric\nLine18: {{.child|n=9|col4={{male}}|age={{elder}}|col6={{sim}}|col7=|col9=[[Caron Simmons]]|col10={{old.age}}}}\n[('[[Caron Simmons]]', 'Caron Simmons')]\nCaron Simmons\nLine19: <!--Niya-->\nNiya\nLine20: {{.child|n=10|col4={{bi|female}}|age={{YA}}|col6={{vampire}}|col7={{twin|#=2}}|col9=[[Steven Smith]]|rs=2|col10={{immortal}}}}\n[('[[Steven Smith]]', 'Steven Smith')]\nSteven Smith\nLine21: <!--Natalie-->\nNatalie\nLine22: {{.child.x|n=11|col4={{female}}|age={{YA}}|col6={{vampire}}|col10={{immortal}}}}\n[]\nSteven Smith\nLine23: <!--RosÃ©-->\nRos\nLine24: {{.child|n=12|col4={{female}}|age={{elder}}|col6={{sim}}|col7={{twin|#=3}}|col9=[[Maria Wills]]|rs=2|col10={{old.age}}}}\n[('[[Maria Wills]]', 'Maria Wills')]\nMaria Wills\nLine25: <!--River-->\nRiver\nLine26: {{.child.x|n=13|col4={{male}}|age={{elder}}|col6={{sim}}|col10={{old.age}}}}\n[]\nMaria Wills\nLine27: <!--Flynn-->\nFlynn\nLine28: {{.child|n=14|col4={{male}}|age={{elder}}|col6={{sim}}|col7={{twin|#=4}}|col9=[[Cayden Cross]]|rs=2|col10={{old.age}}}}\n[('[[Cayden Cross]]', 'Cayden Cross')]\nCayden Cross\nLine29: <!--Cooper-->\nCooper\nLine30: {{.child.x|n=15|col4={{male}}|age={{elder}}|col6={{sim}}|col10={{old.age}}}}\n[]\nCayden Cross\nLine31: <!--Addi-->\nAddi\nLine32: {{.child|n=16|col4={{female}}|age={{elder}}|col6={{sim}}|col7=|col9=[[Yusuf Malik]]|col10={{old.age}}}}\n[('[[Yusuf Malik]]', 'Yusuf Malik')]\nYusuf Malik\nLine33: <!--Ellie-->\nEllie\nLine34: {{.child|n=17|col4={{female}}|age={{elder}}|col6={{sim}}|col7={{twin|#=5}}|col9=[[Craig Dream Daddy]]|rs=2|col10={{old.age}}}}\n[('[[Craig Dream Daddy]]', 'Craig Dream Daddy')]\nCraig Dream Daddy\nLine35: <!--Dorian-->\nDorian\nLine36: {{.child.x|n=18|col4={{male}}|age={{elder}}|col6={{sim}}|col10={{old.age}}}}\n[]\nCraig Dream Daddy\nLine37: <!--Theo-->\nTheo\nLine38: {{.child|n=19|col4={{male}}|age={{elder}}|col6={{sim}}|col7={{twin|#=6}}|col9=[[Hailey Willis]]|rs=2|col10={{old.age}}}}\n[('[[Hailey Willis]]', 'Hailey Willis')]\nHailey Willis\nLine39: <!--Tristen-->\nTristen\nLine40: {{.child.x|n=20|col4={{male}}|age={{elder}}|col6={{sim}}|col10={{old.age}}}}\n[]\nHailey Willis\nLine41: <!--Willow-->\nWillow\nLine42: {{.child|n=21|col4={{female}}|age={{elder}}|col6={{sim}}|col7={{twin|#=7}}|col9=[[Hamza Mounib]]|rs=2|col10={{old.age}}}}\n[('[[Hamza Mounib]]', 'Hamza Mounib')]\nHamza Mounib\nLine43: <!--Ginny-->\nGinny\nLine44: {{.child.x|n=22|col4={{enby}}|age={{elder}}|col6={{sim}}|col10={{old.age}}}}\n[]\nHamza Mounib\nLine45: <!--Bran-->\nBran\nLine46: {{.child|n=23|col4={{male}}|age={{elder}}|col6={{alien-sim}}|col7=|col9=[[Kade Pelletier]]|col10={{old.age}}}}\n[('[[Kade Pelletier]]', 'Kade Pelletier')]\nKade Pelletier\nLine47: <!--Jon-->\nJon\nLine48: {{.child|n=24|col4={{male}}|age={{elder}}|col6={{sim}}|col7={{twin|#=8}}|col9=[[Korbin Sherwood]]|rs=2|col10={{old.age}}}}\n[('[[Korbin Sherwood]]', 'Korbin Sherwood')]\nKorbin Sherwood\nLine49: <!--Arya-->\nArya\nLine50: {{.child.x|n=25|col4={{female}}|age={{elder}}|col6={{sim}}|col10={{old.age}}}}\n[]\nKorbin Sherwood\nLine51: <!--Nova-->\nNova\nLine52: {{.child|n=26|col4={{female}}|age={{elder}}|col6={{sim}}|col7={{twin|#=9}}|col9=[[Chance Turner]]|rs=2|col10={{old.age}}}}\n[('[[Chance Turner]]', 'Chance Turner')]\nChance Turner\nLine53: <!--Freya-->\nFreya\nLine54: {{.child.x|n=27|col4={{female}}|age={{elder}}|col6={{sim}}|col10={{old.age}}}}\n[]\nChance Turner\nLine55: <!--Sirius-->\nSirius\nLine56: {{.child|n=28|col4={{male}}|age={{elder}}|col6={{sim}}|col7={{twin|#=10}}|col9=[[Jordan Weir]]|rs=2|col10={{old.age}}}}\n[('[[Jordan Weir]]', 'Jordan Weir')]\nJordan Weir\nLine57: <!--Stacey-->\nStacey\nLine58: {{.child.x|n=29|col4={{female}}|age={{elder}}|col6={{sim}}|col10={{old.age}}}}\n[]\nJordan Weir\nLine59: <!--Kasey-->\nKasey\nLine60: {{.child|n=30|col4={{bi|female}}|age={{elder}}|col6={{sim}}|col7=|col9=[[Jace Thomas]]|col10=}}\n[('[[Jace Thomas]]', 'Jace Thomas')]\nJace Thomas\nLine61: <!--Taylor-->\nTaylor\nLine62: {{.child|n=31|col4={{male}}|age={{elder}}|col6={{sim}}|col7={{twin|#=11}}|col9=[[Khaled Al Fassi]]|rs=2|col10={{old.age}}}}\n[('[[Khaled Al Fassi]]', 'Khaled Al Fassi')]\nKhaled Al Fassi\nLine63: <!--Tayler-->\nTayler\nLine64: {{.child.x|n=32|col4={{male}}|age={{elder}}|col6={{sim}}|col10={{old.age}}}}\n[]\nKhaled Al Fassi\nLine65: <!--Tegan-->\nTegan\nLine66: {{.child|n=33|col4={{male}}|age={{elder}}|col6={{sim}}|col7={{twin|#=12}}|col9=[[Hawea Paoa]]|rs=2|col10={{old.age}}}}\n[('[[Hawea Paoa]]', 'Hawea Paoa')]\nHawea Paoa\nLine67: <!--Archer-->\nArcher\nLine68: {{.child.x|n=34|col4={{male}}|age={{elder}}|col6={{sim}}|col10={{old.age}}}}\n[]\nHawea Paoa\nLine69: <!--Blaire-->\nBlaire\nLine70: {{.child|n=35|col4={{female}}|age={{elder}}|col6={{sim}}|col7={{triplets}}|col9=[[Afu Savea]]|rs=3|col10={{old.age}}}}\n[('[[Afu Savea]]', 'Afu Savea')]\nAfu Savea\nLine71: <!--Brooke-->\nBrooke\nLine72: {{.child.x|n=36|col4={{female}}|age={{elder}}|col6={{sim}}|col10={{old.age}}}}\n[]\nAfu Savea\nLine73: <!--Brendon-->\nBrendon\nLine74: {{.child.x|n=37|col4={{male}}|age={{elder}}|col6={{sim}}|col10={{old.age}}}}\n[]\nAfu Savea\nLine75: <!--Hope-->\nHope\nLine76: {{.child|n=38|col4={{female}}|age={{elder}}|col6={{sim}}|col7={{twin|#=13}}|col9=[[Seiji Tanaka]]|rs=2|col10={{old.age}}}}\n[('[[Seiji Tanaka]]', 'Seiji Tanaka')]\nSeiji Tanaka\nLine77: <!--Bella-->\nBella\nLine78: {{.child.x|n=39|col4={{female}}|age={{elder}}|col6={{sim}}|col9=|col10={{old.age}}}}\n[]\nSeiji Tanaka\nLine79: <!--Ever-->\nEver\nLine80: {{.child|n=40|col4={{female}}|age={{elder}}|col6={{sim}}|col7={{twin|#=14}}|col9=[[Derumk Kealoha]]|rs=2}}\n[('[[Derumk Kealoha]]', 'Derumk Kealoha')]\nDerumk Kealoha\nLine81: <!--Jake-->\nJake\nLine82: {{.child.x|n=41|col4={{male}}|age={{elder}}|col6={{sim}}}}\n[]\nDerumk Kealoha\nLine83: <!--Romeo-->\nRomeo\nLine84: {{.child|n=42|col4={{male}}|age={{elder}}|col6={{sim}}|col7={{twin|#=15}}|col9=[[Sai Ramesh]]|rs=2}}\n[('[[Sai Ramesh]]', 'Sai Ramesh')]\nSai Ramesh\nLine85: <!--Caesar-->\nCaesar\nLine86: {{.child.x|n=43|col4={{male}}|age={{elder}}|col6={{sim}}|col9=}}\n[]\nSai Ramesh\nLine87: <!--Harry-->\nHarry\nLine88: {{.child|n=h|col4={{male}}|age={{teen}}|col6={{sim}}|col7={{twin|#=16}}|col9=[[Duane Talla]]|rs=2|col10={{drowning}}}}\n[('[[Duane Talla]]', 'Duane Talla')]\nDuane Talla\nLine89: <!--Dustin-->\nDustin\nLine90: {{.child.x|n=44|col4={{male}}|age={{adult}}|col6={{sim}}}}\n[]\nDuane Talla\nLine91: <!--Leo, Jr.-->\nLeoJr\nLine92: {{.child|n=45|col4={{male}}|age={{adult}}|col6={{sim}}|col7=|col9=[[Leonardo DiCaprio]]}}\n[('[[Leonardo DiCaprio]]', 'Leonardo DiCaprio')]\nLeonardo DiCaprio\nLine93: <!--Logan-->\nLogan\nLine94: {{.child|n=46|col4={{male}}|age={{adult}}|col6={{sim}}|col7=|col9=[[Serena Moore]]}}\n[('[[Serena Moore]]', 'Serena Moore')]\nSerena Moore\nLine95: <!--Holly-->\nHolly\nLine96: {{.child|n=47|col4={{female}}|age={{adult}}|col6={{sim}}|col7={{twin|#=17}}|col9=[[James Potter]]|rs=2}}\n[('[[James Potter]]', 'James Potter')]\nJames Potter\nLine97: <!--Hayley-->\nHayley\nLine98: {{.child.x|n=48|col4={{female}}|age={{adult}}|col6={{sim}}}}\n[]\nJames Potter\nLine99: <!--Olivia-->\nOlivia\nLine100: {{.child|n=49|col4={{female}}|age={{YA}}|col6={{sim}}|col7=|col9=[[Tom Holland]]}}\n[('[[Tom Holland]]', 'Tom Holland')]\nTom Holland\nLine101: <!--Chelsea, Jr.-->\nChelseaJr\nLine102: {{.child|n=50|col4={{pan|female}}|age={{YA}}|col6={{sim}}|col7=|col9=[[Finnegan Lambert]]}}\n[('[[Finnegan Lambert]]', 'Finnegan Lambert')]\nFinnegan Lambert\nLine103: <!--Annie-->\nAnnie\nLine104: {{.child|n=51|col4={{female}}|age={{YA}}|col6={{sim}}|col7={{twin|#=18}}|col9=[[Theo Beckett]]|rs=2}}\n[('[[Theo Beckett]]', 'Theo Beckett')]\nTheo Beckett\nLine105: <!--Ashton-->\nAshton\nLine106: {{.child.x|n=52|col4={{male}}|age={{YA}}|col6={{sim}}}}\n[]\nTheo Beckett\nLine107: <!--Phoebe-->\nPhoebe\nLine108: {{.child|n=53|col4={{female}}|age={{YA}}|col6={{sim}}|col7=|col9=[[Remus Lupin]]}}\n[('[[Remus Lupin]]', 'Remus Lupin')]\nRemus Lupin\nLine109: <!--Owen-->\nOwen\nLine110: {{.child|n=54|col4={{male}}|age={{YA}}|col6={{sim}}|col7={{twin|#=19}}|col9=[[Leonardo Parish]]|rs=2}}\n[('[[Leonardo Parish]]', 'Leonardo Parish')]\nLeonardo Parish\nLine111: <!--Lucien-->\nLucien\nLine112: {{.child.x|n=55|col4={{male}}|age={{YA}}|col6={{sim}}}}\n[]\nLeonardo Parish\nLine113: <!--Autumn-->\nAutumn\nLine114: {{.child|n=56|col4={{female}}|age={{YA}}|col6={{sim}}|col7={{twin|#=20}}|col9=[[Noel Fritz]]|rs=2}}\n[('[[Noel Fritz]]', 'Noel Fritz')]\nNoel Fritz\nLine115: <!--August-->\nAugust\nLine116: {{.child.x|n=57|col4={{male}}|age={{YA}}|col6={{sim}}}}\n[]\nNoel Fritz\nLine117: <!--Mars-->\nMars\nLine118: {{.child|n=58|col4={{male}}|age={{YA}}|col6={{sim}}|col7={{twin|#=21}}|col9=[[Brooke Pieterson]]|rs=2}}\n[('[[Brooke Pieterson]]', 'Brooke Pieterson')]\nBrooke Pieterson\nLine119: <!--Conner-->\nConner\nLine120: {{.child.x|n=59|col4={{male}}|age={{YA}}|col6={{sim}}}}\n[]\nBrooke Pieterson\nLine121: <!--Blake-->\nBlake\nLine122: {{.child|n=60|col4={{female}}|age={{YA}}|col6={{spellcaster}}|col7=|col9=[[Darrel Charm]]}}\n[('[[Darrel Charm]]', 'Darrel Charm')]\nDarrel Charm\nLine123: <!--Hannah-->\nHannah\nLine124: {{.child|n=61|col4={{female}}|age={{YA}}|col6={{sim}}|col7={{twin|#=22}}|col9=[[Fetu Paewai]]|rs=2|col10=}}\n[('[[Fetu Paewai]]', 'Fetu Paewai')]\nFetu Paewai\nLine125: <!--Elliot-->\nElliot\nLine126: {{.child.x|n=62|col4={{female}}|age={{YA}}|col6={{sim}}|col10=}}\n[]\nFetu Paewai\nLine127: <!--Oliver-->\nOliver\nLine128: {{.child|n=63|col4={{male}}|age={{YA}}|col6={{sim}}|col7=|col9=[[Stephen Andersen]]|col10=}}\n[('[[Stephen Andersen]]', 'Stephen Andersen')]\nStephen Andersen\nLine129: <!--Kelly-->\nKelly\nLine130: {{.child|n=64|col4={{bi|female}}|age={{YA}}|col6={{sim}}|col7={{twin|#=23}}|col9=[[Ryder Milligan]]|rs=2|col10={{home}}}}\n[('[[Ryder Milligan]]', 'Ryder Milligan')]\nRyder Milligan\nLine131: <!--Wesley-->\nWesley\nLine132: {{.child.x|n=65|col4={{male}}|age={{YA}}|col6={{sim}}|col10={{emb}}}}\n[]\nRyder Milligan\nLine133: <!--Henry-->\nHenry\nLine134: {{.child|n=66|col4={{male}}|age={{YA}}|col6={{sim}}|col7={{twin|#=24}}|col9=[[Adam Beast]]|rs=2|col10=}}\n[('[[Adam Beast]]', 'Adam Beast')]\nAdam Beast\nLine135: <!--Holden-->\nHolden\nLine136: {{.child.x|n=67|col4={{gay}}|age={{YA}}|col6={{sim}}|col10=}}\n[]\nAdam Beast\nLine137: <!--Josie-->\nJosie\nLine138: {{.child|n=68|col4={{female}}|age={{YA}}|col6={{sim}}|col7={{twin|#=25}}|col9=[[Jase Marroquin]]|rs=2|col10=}}\n[('[[Jase Marroquin]]', 'Jase Marroquin')]\nJase Marroquin\nLine139: <!--Cove-->\nCove\nLine140: {{.child.x|n=69|col4={{female}}|age={{YA}}|col6={{sim}}|col10=}}\n[]\nJase Marroquin\nLine141: <!--Delilah-->\nDelilah\nLine142: {{.child|n=70|col4={{ace|female}}|age={{YA}}|col6={{sim}}|col7={{twin|#=26}}|col9=[[Fred Jenson]]|rs=2|col10=}}\n[('[[Fred Jenson]]', 'Fred Jenson')]\nFred Jenson\nLine143: <!--Danyel-->\nDanyel\nLine144: {{.child.x|n=71|col4={{female}}|age={{YA}}|col6={{sim}}|col10=}}\n[]\nFred Jenson\nLine145: <!--Ruth-->\nRuth\nLine146: {{.child|n=72|col4={{trans|female}}|age={{YA}}|col6={{sim}}|col9=[[Messiah Reed]]|col10=}}\n[('[[Messiah Reed]]', 'Messiah Reed')]\nMessiah Reed\nLine147: <!--Todd-->\nTodd\nLine148: {{.child|n=73|col4={{male}}|age={{YA}}|col6={{sim}}|col7={{twin|#=27}}|col9=[[Carlos Dias]]|col10=|rs=2}}\n[('[[Carlos Dias]]', 'Carlos Dias')]\nCarlos Dias\nLine149: <!--Jacob-->\nJacob\nLine150: {{.child.x|n=74|col4={{male}}|age={{YA}}|col6={{sim}}|col10=}}\n[]\nCarlos Dias\nLine151: <!--Eileen-->\nEileen\nLine152: {{.child|n=75|col4={{female}}|age={{YA}}|col6={{sim}}|col7={{twin|#=28}}|col9=[[Aquaman Momoa]]|col10=|rs=2}}\n[('[[Aquaman Momoa]]', 'Aquaman Momoa')]\nAquaman Momoa\nLine153: <!--Waldo-->\nWaldo\nLine154: {{.child.x|n=76|col4={{male}}|age={{YA}}|col6={{sim}}|col10=}}\n[]\nAquaman Momoa\nLine155: <!--Jennie-->\nJennie\nLine156: {{.child|n=77|col4={{female}}|age={{YA}}|col6={{sim}}|col7=|col9=[[BTS Namjoon]]|col10=|rs=1}}\n[('[[BTS Namjoon]]', 'BTS Namjoon')]\nBTS Namjoon\nLine157: <!--Rebekah-->\nRebekah\nLine158: {{.child|n=78|col4={{female}}|age={{YA}}|col6={{sim}}|col7={{twin|#=29}}|col9=[[BTS Jungkook]]|col10=|rs=2}}\n[('[[BTS Jungkook]]', 'BTS Jungkook')]\nBTS Jungkook\nLine159: <!--Dwayne-->\nDwayne\nLine160: {{.child.x|n=79|col4={{male}}|age={{YA}}|col6={{sim}}|col7=|col10=}}\n[]\nBTS Jungkook\nLine161: <!--Loki-->\nLoki\nLine162: {{.child|n=80|col4={{male}}|age={{YA}}|col6={{sim}}|col7={{twin|#=30}}|col9=[[Monica Geller]]|col10=|rs=2}}\n[('[[Monica Geller]]', 'Monica Geller')]\nMonica Geller\nLine163: <!--Eleanor-->\nEleanor\nLine164: {{.child.x|n=81|col4={{female}}|age={{YA}}|col6={{sim}}|col7=|col10=}}\n[]\nMonica Geller\nLine165: <!--Koya-->\nKoya\nLine166: {{.child|n=82|col4={{male}}|age={{YA}}|col6={{sim}}|col7={{twin|#=31}}|col9=[[BTS Jimin]]|col10=|rs=2}}\n[('[[BTS Jimin]]', 'BTS Jimin')]\nBTS Jimin\nLine167: <!--Rain-->\nRain\nLine168: {{.child.x|n=83|col4={{male}}|age={{YA}}|col6={{sim}}|col7=|col10=}}\n[]\nBTS Jimin\nLine169: <!--Baby-->\nBaby\nLine170: {{.child|n=84|col4={{female}}|age={{YA}}|col6={{sim}}|col7={{twin|#=32}}|col9=[[BTS J-Hope]]|col10=|rs=2}}\n[('[[BTS J-Hope]]', 'BTS J-Hope')]\nBTS J-Hope\nLine171: <!--Jane-->\nJane\nLine172: {{.child.x|n=85|col4={{lesbian}}|age={{YA}}|col6={{sim}}|col7=|col10=}}\n[]\nBTS J-Hope\nLine173: <!--Han-->\nHan\nLine174: {{.child|n=86|col4={{male}}|age={{YA}}|col6={{sim}}|col7={{twin|#=33}}|col9=[[BTS Taehyung]]|col10=|rs=2}}\n[('[[BTS Taehyung]]', 'BTS Taehyung')]\nBTS Taehyung\nLine175: <!--Hwan-->\nHwan\nLine176: {{.child.x|n=87|col4={{male}}|age={{YA}}|col6={{sim}}|col7=|col10={{home}}}}\n[]\nBTS Taehyung\nLine177: <!--Keira-->\nKeira\nLine178: {{.child|n=88|col4={{female}}|age={{YA}}|col6={{sim}}|col7=|col9=[[Ekam Khosa]]|col10={{home}}}}\n[('[[Ekam Khosa]]', 'Ekam Khosa')]\nEkam Khosa\nLine179: <!--Teddy-->\nTeddy\nLine180: {{.child|n=89|col4={{male}}|age={{toddler}}|col6={{sim}}|col7=|col9=[[Cataleya Collins]]|col10={{home}}}}\n[('[[Cataleya Collins]]', 'Cataleya Collins')]\nCataleya Collins\nLine181: <!--Levi-->\nLevi\nLine182: {{.child|n=90|col4={{male}}|age={{baby}}|col6={{sim}}|col7={{twin|#=34}}|col9=[[Maleficent Moors]]|col10={{home}}|rs=2}}\n[('[[Maleficent Moors]]', 'Maleficent Moors')]\nMaleficent Moors\nLine183: <!--Belle-->\nBelle\nLine184: {{.child.x3|n=91|col4={{female}}|age={{baby}}|col6={{sim}}|col10={{home.x}}}}\n[]\nMaleficent Moors\nLine185: |}</div>\ndiv\n[['Olive', 'Marcus Flex'], ['Brielle', 'Dominic Fyres'], ['Jaime', 'J Huntington III'], ['Alexis', 'Sergio Romeo'], ['Miles', 'Lars Rosewood'], ['Renee', 'Lars Rosewood'], ['Charlie', 'Craig Slater'], ['Hazel', 'Kim Mingyu'], ['Eric', 'Caron Simmons'], ['Niya', 'Steven Smith'], ['Natalie', 'Steven Smith'], ['Rosé', 'Maria Wills'], ['River', 'Maria Wills'], ['Flynn', 'Cayden Cross'], ['Cooper', 'Cayden Cross'], ['Addi', 'Yusuf Malik'], ['Ellie', 'Craig Dream Daddy'], ['Dorian', 'Craig Dream Daddy'], ['Theo', 'Hailey Willis'], ['Tristen', 'Hailey Willis'], ['Willow', 'Hamza Mounib'], ['Ginny', 'Hamza Mounib'], ['Bran', 'Kade Pelletier'], ['Jon', 'Korbin Sherwood'], ['Arya', 'Korbin Sherwood'], ['Nova', 'Chance Turner'], ['Freya', 'Chance Turner'], ['Sirius', 'Jordan Weir'], ['Stacey', 'Jordan Weir'], ['Kasey', 'Jace Thomas'], ['Taylor', 'Khaled Al Fassi'], ['Tayler', 'Khaled Al Fassi'], ['Tegan', 'Hawea Paoa'], ['Archer', 'Hawea Paoa'], ['Blaire', 'Afu Savea'], ['Brooke', 'Afu Savea'], ['Brendon', 'Afu Savea'], ['Hope', 'Seiji Tanaka'], ['Bella', 'Seiji Tanaka'], ['Ever', 'Derumk Kealoha'], ['Jake', 'Derumk Kealoha'], ['Romeo', 'Sai Ramesh'], ['Caesar', 'Sai Ramesh'], ['Harry', 'Duane Talla'], ['Dustin', 'Duane Talla'], ['LeoJr', 'Leonardo DiCaprio'], ['Logan', 'Serena Moore'], ['Holly', 'James Potter'], ['Hayley', 'James Potter'], ['Olivia', 'Tom Holland'], ['ChelseaJr', 'Finnegan Lambert'], ['Annie', 'Theo Beckett'], ['Ashton', 'Theo Beckett'], ['Phoebe', 'Remus Lupin'], ['Owen', 'Leonardo Parish'], ['Lucien', 'Leonardo Parish'], ['Autumn', 'Noel Fritz'], ['August', 'Noel Fritz'], ['Mars', 'Brooke Pieterson'], ['Conner', 'Brooke Pieterson'], ['Blake', 'Darrel Charm'], ['Hannah', 'Fetu Paewai'], ['Elliot', 'Fetu Paewai'], ['Oliver', 'Stephen Andersen'], ['Kelly', 'Ryder Milligan'], ['Wesley', 'Ryder Milligan'], ['Henry', 'Adam Beast'], ['Holden', 'Adam Beast'], ['Josie', 'Jase Marroquin'], ['Cove', 'Jase Marroquin'], ['Delilah', 'Fred Jenson'], ['Danyel', 'Fred Jenson'], ['Ruth', 'Messiah Reed'], ['Todd', 'Carlos Dias'], ['Jacob', 'Carlos Dias'], ['Eileen', 'Aquaman Momoa'], ['Waldo', 'Aquaman Momoa'], ['Jennie', 'BTS Namjoon'], ['Rebekah', 'BTS Jungkook'], ['Dwayne', 'BTS Jungkook'], ['Loki', 'Monica Geller'], ['Eleanor', 'Monica Geller'], ['Koya', 'BTS Jimin'], ['Rain', 'BTS Jimin'], ['Baby', 'BTS J-Hope'], ['Jane', 'BTS J-Hope'], ['Han', 'BTS Taehyung'], ['Hwan', 'BTS Taehyung'], ['Keira', 'Ekam Khosa'], ['Teddy', 'Cataleya Collins'], ['Levi', 'Maleficent Moors'], ['Belle', 'Maleficent Moors']]\n"
     ]
    }
   ],
   "source": []
  },
  {
   "cell_type": "code",
   "execution_count": 80,
   "metadata": {
    "tags": []
   },
   "outputs": [
    {
     "output_type": "execute_result",
     "data": {
      "text/plain": [
       "205076"
      ]
     },
     "metadata": {},
     "execution_count": 80
    }
   ],
   "source": []
  },
  {
   "cell_type": "code",
   "execution_count": 81,
   "metadata": {
    "tags": []
   },
   "outputs": [
    {
     "output_type": "stream",
     "name": "stdout",
     "text": [
      "['30']\n"
     ]
    }
   ],
   "source": []
  },
  {
   "cell_type": "code",
   "execution_count": 92,
   "metadata": {},
   "outputs": [
    {
     "output_type": "execute_result",
     "data": {
      "text/plain": [
       "30"
      ]
     },
     "metadata": {},
     "execution_count": 92
    }
   ],
   "source": []
  },
  {
   "cell_type": "code",
   "execution_count": 95,
   "metadata": {},
   "outputs": [
    {
     "output_type": "stream",
     "name": "stdout",
     "text": [
      "Olive 1\n",
      "Brielle 2\n",
      "Jaime 2\n",
      "Alexis 4\n",
      "Miles 4\n",
      "Renee 4\n",
      "Charlie 6\n",
      "Hazel 7\n",
      "Eric 9\n",
      "Niya 9\n",
      "Natalie 9\n",
      "Rosé 10\n",
      "River 10\n",
      "Flynn 12\n",
      "Cooper 12\n",
      "Addi 13\n",
      "Ellie 15\n",
      "Dorian 15\n",
      "Theo 15\n",
      "Tristen 15\n",
      "Willow 16\n",
      "Ginny 16\n",
      "Bran 17\n",
      "Jon 19\n",
      "Arya 19\n",
      "Nova 21\n",
      "Freya 21\n",
      "Sirius 22\n",
      "Stacey 22\n",
      "Kasey 23\n",
      "Taylor 25\n",
      "Tayler 25\n",
      "Tegan 29\n",
      "Archer 29\n",
      "Blaire 30\n",
      "Brooke 30\n",
      "Brendon 30\n",
      "Hope 30\n",
      "Bella 30\n",
      "Ever 34\n",
      "Jake 34\n",
      "Romeo 35\n",
      "Caesar 35\n",
      "Harry 36\n",
      "Dustin 36\n",
      "LeoJr 37\n",
      "Logan 38\n",
      "Holly 39\n",
      "Hayley 39\n",
      "Olivia 40\n",
      "ChelseaJr 42\n",
      "Annie 42\n",
      "Ashton 42\n",
      "Phoebe 44\n",
      "Owen 46\n",
      "Lucien 46\n",
      "Autumn 47\n",
      "August 47\n",
      "Mars 48\n",
      "Conner 48\n",
      "Blake 50\n",
      "Hannah 52\n",
      "Elliot 52\n",
      "Oliver 55\n",
      "Kelly 56\n",
      "Wesley 56\n",
      "Henry 57\n",
      "Holden 57\n",
      "Josie 61\n",
      "Cove 61\n",
      "Delilah 62\n",
      "Danyel 62\n",
      "Ruth 63\n",
      "Todd 64\n",
      "Jacob 64\n",
      "Eileen 68\n",
      "Waldo 68\n",
      "Jennie 69\n",
      "Rebekah 70\n",
      "Dwayne 70\n",
      "Loki 71\n",
      "Eleanor 71\n",
      "Koya 73\n",
      "Rain 73\n",
      "Baby 74\n",
      "Jane 74\n",
      "Han 76\n",
      "Hwan 76\n",
      "Keira 77\n",
      "Teddy 78\n",
      "Levi 79\n",
      "Belle 79\n"
     ]
    },
    {
     "output_type": "execute_result",
     "data": {
      "text/plain": [
       "[['Olive', 'Marcus Flex', 1],\n",
       " ['Brielle', 'Dominic Fyres', 2],\n",
       " ['Jaime', 'J Huntington III', 2],\n",
       " ['Alexis', 'Sergio Romeo', 4],\n",
       " ['Miles', 'Lars Rosewood', 4],\n",
       " ['Renee', 'Lars Rosewood', 4],\n",
       " ['Charlie', 'Craig Slater', 6],\n",
       " ['Hazel', 'Kim Mingyu', 7],\n",
       " ['Eric', 'Caron Simmons', 9],\n",
       " ['Niya', 'Steven Smith', 9],\n",
       " ['Natalie', 'Steven Smith', 9],\n",
       " ['Rosé', 'Maria Wills', 10],\n",
       " ['River', 'Maria Wills', 10],\n",
       " ['Flynn', 'Cayden Cross', 12],\n",
       " ['Cooper', 'Cayden Cross', 12],\n",
       " ['Addi', 'Yusuf Malik', 13],\n",
       " ['Ellie', 'Craig Dream Daddy', 15],\n",
       " ['Dorian', 'Craig Dream Daddy', 15],\n",
       " ['Theo', 'Hailey Willis', 15],\n",
       " ['Tristen', 'Hailey Willis', 15],\n",
       " ['Willow', 'Hamza Mounib', 16],\n",
       " ['Ginny', 'Hamza Mounib', 16],\n",
       " ['Bran', 'Kade Pelletier', 17],\n",
       " ['Jon', 'Korbin Sherwood', 19],\n",
       " ['Arya', 'Korbin Sherwood', 19],\n",
       " ['Nova', 'Chance Turner', 21],\n",
       " ['Freya', 'Chance Turner', 21],\n",
       " ['Sirius', 'Jordan Weir', 22],\n",
       " ['Stacey', 'Jordan Weir', 22],\n",
       " ['Kasey', 'Jace Thomas', 23],\n",
       " ['Taylor', 'Khaled Al Fassi', 25],\n",
       " ['Tayler', 'Khaled Al Fassi', 25],\n",
       " ['Tegan', 'Hawea Paoa', 29],\n",
       " ['Archer', 'Hawea Paoa', 29],\n",
       " ['Blaire', 'Afu Savea', 30],\n",
       " ['Brooke', 'Afu Savea', 30],\n",
       " ['Brendon', 'Afu Savea', 30],\n",
       " ['Hope', 'Seiji Tanaka', 30],\n",
       " ['Bella', 'Seiji Tanaka', 30],\n",
       " ['Ever', 'Derumk Kealoha', 34],\n",
       " ['Jake', 'Derumk Kealoha', 34],\n",
       " ['Romeo', 'Sai Ramesh', 35],\n",
       " ['Caesar', 'Sai Ramesh', 35],\n",
       " ['Harry', 'Duane Talla', 36],\n",
       " ['Dustin', 'Duane Talla', 36],\n",
       " ['LeoJr', 'Leonardo DiCaprio', 37],\n",
       " ['Logan', 'Serena Moore', 38],\n",
       " ['Holly', 'James Potter', 39],\n",
       " ['Hayley', 'James Potter', 39],\n",
       " ['Olivia', 'Tom Holland', 40],\n",
       " ['ChelseaJr', 'Finnegan Lambert', 42],\n",
       " ['Annie', 'Theo Beckett', 42],\n",
       " ['Ashton', 'Theo Beckett', 42],\n",
       " ['Phoebe', 'Remus Lupin', 44],\n",
       " ['Owen', 'Leonardo Parish', 46],\n",
       " ['Lucien', 'Leonardo Parish', 46],\n",
       " ['Autumn', 'Noel Fritz', 47],\n",
       " ['August', 'Noel Fritz', 47],\n",
       " ['Mars', 'Brooke Pieterson', 48],\n",
       " ['Conner', 'Brooke Pieterson', 48],\n",
       " ['Blake', 'Darrel Charm', 50],\n",
       " ['Hannah', 'Fetu Paewai', 52],\n",
       " ['Elliot', 'Fetu Paewai', 52],\n",
       " ['Oliver', 'Stephen Andersen', 55],\n",
       " ['Kelly', 'Ryder Milligan', 56],\n",
       " ['Wesley', 'Ryder Milligan', 56],\n",
       " ['Henry', 'Adam Beast', 57],\n",
       " ['Holden', 'Adam Beast', 57],\n",
       " ['Josie', 'Jase Marroquin', 61],\n",
       " ['Cove', 'Jase Marroquin', 61],\n",
       " ['Delilah', 'Fred Jenson', 62],\n",
       " ['Danyel', 'Fred Jenson', 62],\n",
       " ['Ruth', 'Messiah Reed', 63],\n",
       " ['Todd', 'Carlos Dias', 64],\n",
       " ['Jacob', 'Carlos Dias', 64],\n",
       " ['Eileen', 'Aquaman Momoa', 68],\n",
       " ['Waldo', 'Aquaman Momoa', 68],\n",
       " ['Jennie', 'BTS Namjoon', 69],\n",
       " ['Rebekah', 'BTS Jungkook', 70],\n",
       " ['Dwayne', 'BTS Jungkook', 70],\n",
       " ['Loki', 'Monica Geller', 71],\n",
       " ['Eleanor', 'Monica Geller', 71],\n",
       " ['Koya', 'BTS Jimin', 73],\n",
       " ['Rain', 'BTS Jimin', 73],\n",
       " ['Baby', 'BTS J-Hope', 74],\n",
       " ['Jane', 'BTS J-Hope', 74],\n",
       " ['Han', 'BTS Taehyung', 76],\n",
       " ['Hwan', 'BTS Taehyung', 76],\n",
       " ['Keira', 'Ekam Khosa', 77],\n",
       " ['Teddy', 'Cataleya Collins', 78],\n",
       " ['Levi', 'Maleficent Moors', 79],\n",
       " ['Belle', 'Maleficent Moors', 79]]"
      ]
     },
     "metadata": {},
     "execution_count": 95
    }
   ],
   "source": []
  },
  {
   "cell_type": "code",
   "execution_count": null,
   "metadata": {},
   "outputs": [],
   "source": []
  }
 ]
}