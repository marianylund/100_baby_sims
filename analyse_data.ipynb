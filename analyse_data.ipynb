{
 "cells": [
  {
   "cell_type": "code",
   "execution_count": 1,
   "metadata": {},
   "outputs": [],
   "source": [
    "from pathlib import Path\n",
    "import json\n",
    "import pandas as pd"
   ]
  },
  {
   "cell_type": "code",
   "execution_count": 2,
   "metadata": {},
   "outputs": [],
   "source": [
    "data_path = Path.cwd().joinpath(\"DATA_FILES\")\n",
    "ignore_names = set([\"kelsey\", \"chelsea\", \"chelsey\", \"kelly\", \"kacey\", \"jamie\", \"maleficent\"])\n",
    "ignore_words = set([\"hope\", \"best\", \"happy\", \"new\", \"coward\", \"chance\", \"sup\", \"black\", \"tho\", \"angel\", \"elders\", \"may\", \"nanny\", \"couch\", \"soo\", \"irl\", \"hurry\", \"drew\", \"marry\", \"luv\", \"bunk\", \"demon\", \"hug\", \"nap\", \"jr\", \"cousin\", \"max\", \"grim\", \"sunny\"])"
   ]
  },
  {
   "cell_type": "code",
   "execution_count": 3,
   "metadata": {},
   "outputs": [],
   "source": [
    "total_results = 'total_results.json'\n",
    "file = data_path.joinpath(total_results)\n",
    "with open(file) as train_file:\n",
    "    dict_train = json.load(train_file)"
   ]
  },
  {
   "cell_type": "code",
   "execution_count": 4,
   "metadata": {},
   "outputs": [
    {
     "data": {
      "text/html": [
       "<div>\n",
       "<style scoped>\n",
       "    .dataframe tbody tr th:only-of-type {\n",
       "        vertical-align: middle;\n",
       "    }\n",
       "\n",
       "    .dataframe tbody tr th {\n",
       "        vertical-align: top;\n",
       "    }\n",
       "\n",
       "    .dataframe thead th {\n",
       "        text-align: right;\n",
       "    }\n",
       "</style>\n",
       "<table border=\"1\" class=\"dataframe\">\n",
       "  <thead>\n",
       "    <tr style=\"text-align: right;\">\n",
       "      <th></th>\n",
       "      <th>child</th>\n",
       "      <th>parent</th>\n",
       "    </tr>\n",
       "  </thead>\n",
       "  <tbody>\n",
       "    <tr>\n",
       "      <th>1</th>\n",
       "      <td>[Olive]</td>\n",
       "      <td>[Marcus Flex]</td>\n",
       "    </tr>\n",
       "    <tr>\n",
       "      <th>2</th>\n",
       "      <td>[Brielle, Jaime]</td>\n",
       "      <td>[Dominic Fyres, J Huntington III]</td>\n",
       "    </tr>\n",
       "    <tr>\n",
       "      <th>4</th>\n",
       "      <td>[Alexis, Miles, Renee]</td>\n",
       "      <td>[Sergio Romeo, Lars Rosewood]</td>\n",
       "    </tr>\n",
       "    <tr>\n",
       "      <th>6</th>\n",
       "      <td>[Charlie]</td>\n",
       "      <td>[Craig Slater]</td>\n",
       "    </tr>\n",
       "    <tr>\n",
       "      <th>7</th>\n",
       "      <td>[Hazel]</td>\n",
       "      <td>[Kim Mingyu]</td>\n",
       "    </tr>\n",
       "    <tr>\n",
       "      <th>9</th>\n",
       "      <td>[Eric, Niya, Natalie]</td>\n",
       "      <td>[Caron Simmons, Steven Smith]</td>\n",
       "    </tr>\n",
       "    <tr>\n",
       "      <th>10</th>\n",
       "      <td>[Rosé, River]</td>\n",
       "      <td>[Maria Wills]</td>\n",
       "    </tr>\n",
       "    <tr>\n",
       "      <th>12</th>\n",
       "      <td>[Flynn, Cooper]</td>\n",
       "      <td>[Cayden Cross]</td>\n",
       "    </tr>\n",
       "    <tr>\n",
       "      <th>13</th>\n",
       "      <td>[Addi]</td>\n",
       "      <td>[Yusuf Malik]</td>\n",
       "    </tr>\n",
       "    <tr>\n",
       "      <th>15</th>\n",
       "      <td>[Ellie, Dorian, Theo, Tristen]</td>\n",
       "      <td>[Craig Dream Daddy, Hailey Willis]</td>\n",
       "    </tr>\n",
       "    <tr>\n",
       "      <th>16</th>\n",
       "      <td>[Willow, Ginny]</td>\n",
       "      <td>[Hamza Mounib]</td>\n",
       "    </tr>\n",
       "    <tr>\n",
       "      <th>17</th>\n",
       "      <td>[Bran]</td>\n",
       "      <td>[Kade Pelletier]</td>\n",
       "    </tr>\n",
       "    <tr>\n",
       "      <th>19</th>\n",
       "      <td>[Jon, Arya]</td>\n",
       "      <td>[Korbin Sherwood]</td>\n",
       "    </tr>\n",
       "    <tr>\n",
       "      <th>21</th>\n",
       "      <td>[Nova, Freya]</td>\n",
       "      <td>[Chance Turner]</td>\n",
       "    </tr>\n",
       "    <tr>\n",
       "      <th>22</th>\n",
       "      <td>[Sirius, Stacey]</td>\n",
       "      <td>[Jordan Weir]</td>\n",
       "    </tr>\n",
       "    <tr>\n",
       "      <th>23</th>\n",
       "      <td>[Kasey]</td>\n",
       "      <td>[Jace Thomas]</td>\n",
       "    </tr>\n",
       "    <tr>\n",
       "      <th>25</th>\n",
       "      <td>[Taylor, Tayler]</td>\n",
       "      <td>[Khaled Al Fassi]</td>\n",
       "    </tr>\n",
       "    <tr>\n",
       "      <th>29</th>\n",
       "      <td>[Tegan, Archer]</td>\n",
       "      <td>[Hawea Paoa]</td>\n",
       "    </tr>\n",
       "    <tr>\n",
       "      <th>30</th>\n",
       "      <td>[Blaire, Brooke, Brendon, Hope, Bella]</td>\n",
       "      <td>[Afu Savea, Seiji Tanaka]</td>\n",
       "    </tr>\n",
       "    <tr>\n",
       "      <th>34</th>\n",
       "      <td>[Ever, Jake]</td>\n",
       "      <td>[Derumk Kealoha]</td>\n",
       "    </tr>\n",
       "    <tr>\n",
       "      <th>35</th>\n",
       "      <td>[Romeo, Caesar]</td>\n",
       "      <td>[Sai Ramesh]</td>\n",
       "    </tr>\n",
       "    <tr>\n",
       "      <th>36</th>\n",
       "      <td>[Harry, Dustin]</td>\n",
       "      <td>[Duane Talla]</td>\n",
       "    </tr>\n",
       "    <tr>\n",
       "      <th>37</th>\n",
       "      <td>[LeoJr]</td>\n",
       "      <td>[Leonardo DiCaprio]</td>\n",
       "    </tr>\n",
       "    <tr>\n",
       "      <th>38</th>\n",
       "      <td>[Logan]</td>\n",
       "      <td>[Serena Moore]</td>\n",
       "    </tr>\n",
       "    <tr>\n",
       "      <th>39</th>\n",
       "      <td>[Holly, Hayley]</td>\n",
       "      <td>[James Potter]</td>\n",
       "    </tr>\n",
       "    <tr>\n",
       "      <th>40</th>\n",
       "      <td>[Olivia]</td>\n",
       "      <td>[Tom Holland]</td>\n",
       "    </tr>\n",
       "    <tr>\n",
       "      <th>42</th>\n",
       "      <td>[ChelseaJr, Annie, Ashton]</td>\n",
       "      <td>[Finnegan Lambert, Theo Beckett]</td>\n",
       "    </tr>\n",
       "    <tr>\n",
       "      <th>44</th>\n",
       "      <td>[Phoebe]</td>\n",
       "      <td>[Remus Lupin]</td>\n",
       "    </tr>\n",
       "    <tr>\n",
       "      <th>46</th>\n",
       "      <td>[Owen, Lucien]</td>\n",
       "      <td>[Leonardo Parish]</td>\n",
       "    </tr>\n",
       "    <tr>\n",
       "      <th>47</th>\n",
       "      <td>[Autumn, August]</td>\n",
       "      <td>[Noel Fritz]</td>\n",
       "    </tr>\n",
       "    <tr>\n",
       "      <th>48</th>\n",
       "      <td>[Mars, Conner]</td>\n",
       "      <td>[Brooke Pieterson]</td>\n",
       "    </tr>\n",
       "    <tr>\n",
       "      <th>50</th>\n",
       "      <td>[Blake]</td>\n",
       "      <td>[Darrel Charm]</td>\n",
       "    </tr>\n",
       "    <tr>\n",
       "      <th>52</th>\n",
       "      <td>[Hannah, Elliot]</td>\n",
       "      <td>[Fetu Paewai]</td>\n",
       "    </tr>\n",
       "    <tr>\n",
       "      <th>55</th>\n",
       "      <td>[Oliver]</td>\n",
       "      <td>[Stephen Andersen]</td>\n",
       "    </tr>\n",
       "    <tr>\n",
       "      <th>56</th>\n",
       "      <td>[Kelly, Wesley]</td>\n",
       "      <td>[Ryder Milligan]</td>\n",
       "    </tr>\n",
       "    <tr>\n",
       "      <th>57</th>\n",
       "      <td>[Henry, Holden]</td>\n",
       "      <td>[Adam Beast]</td>\n",
       "    </tr>\n",
       "    <tr>\n",
       "      <th>61</th>\n",
       "      <td>[Josie, Cove]</td>\n",
       "      <td>[Jase Marroquin]</td>\n",
       "    </tr>\n",
       "    <tr>\n",
       "      <th>62</th>\n",
       "      <td>[Delilah, Danyel]</td>\n",
       "      <td>[Fred Jenson]</td>\n",
       "    </tr>\n",
       "    <tr>\n",
       "      <th>63</th>\n",
       "      <td>[Ruth]</td>\n",
       "      <td>[Messiah Reed]</td>\n",
       "    </tr>\n",
       "    <tr>\n",
       "      <th>64</th>\n",
       "      <td>[Todd, Jacob]</td>\n",
       "      <td>[Carlos Dias]</td>\n",
       "    </tr>\n",
       "    <tr>\n",
       "      <th>68</th>\n",
       "      <td>[Eileen, Waldo]</td>\n",
       "      <td>[Aquaman Momoa]</td>\n",
       "    </tr>\n",
       "    <tr>\n",
       "      <th>69</th>\n",
       "      <td>[Jennie]</td>\n",
       "      <td>[BTS Namjoon]</td>\n",
       "    </tr>\n",
       "    <tr>\n",
       "      <th>70</th>\n",
       "      <td>[Rebekah, Dwayne]</td>\n",
       "      <td>[BTS Jungkook]</td>\n",
       "    </tr>\n",
       "    <tr>\n",
       "      <th>71</th>\n",
       "      <td>[Loki, Eleanor]</td>\n",
       "      <td>[Monica Geller]</td>\n",
       "    </tr>\n",
       "    <tr>\n",
       "      <th>73</th>\n",
       "      <td>[Koya, Rain]</td>\n",
       "      <td>[BTS Jimin]</td>\n",
       "    </tr>\n",
       "    <tr>\n",
       "      <th>74</th>\n",
       "      <td>[Baby, Jane]</td>\n",
       "      <td>[BTS J-Hope]</td>\n",
       "    </tr>\n",
       "    <tr>\n",
       "      <th>76</th>\n",
       "      <td>[Han, Hwan]</td>\n",
       "      <td>[BTS Taehyung]</td>\n",
       "    </tr>\n",
       "    <tr>\n",
       "      <th>77</th>\n",
       "      <td>[Keira]</td>\n",
       "      <td>[Ekam Khosa]</td>\n",
       "    </tr>\n",
       "    <tr>\n",
       "      <th>78</th>\n",
       "      <td>[Teddy]</td>\n",
       "      <td>[Cataleya Collins]</td>\n",
       "    </tr>\n",
       "    <tr>\n",
       "      <th>79</th>\n",
       "      <td>[Levi, Belle]</td>\n",
       "      <td>[Maleficent Moors]</td>\n",
       "    </tr>\n",
       "    <tr>\n",
       "      <th>80</th>\n",
       "      <td>[Tom, Timmy, Cara]</td>\n",
       "      <td>[Evil Queen, Jane Goodwin]</td>\n",
       "    </tr>\n",
       "    <tr>\n",
       "      <th>81</th>\n",
       "      <td>[Athena]</td>\n",
       "      <td>[Emma Durham]</td>\n",
       "    </tr>\n",
       "    <tr>\n",
       "      <th>82</th>\n",
       "      <td>[Jayden, Josh]</td>\n",
       "      <td>[Emma Durham]</td>\n",
       "    </tr>\n",
       "    <tr>\n",
       "      <th>83</th>\n",
       "      <td>[Zuko, William]</td>\n",
       "      <td>[Li Shang, Tony Stark]</td>\n",
       "    </tr>\n",
       "  </tbody>\n",
       "</table>\n",
       "</div>"
      ],
      "text/plain": [
       "                                     child                              parent\n",
       "1                                  [Olive]                       [Marcus Flex]\n",
       "2                         [Brielle, Jaime]   [Dominic Fyres, J Huntington III]\n",
       "4                   [Alexis, Miles, Renee]       [Sergio Romeo, Lars Rosewood]\n",
       "6                                [Charlie]                      [Craig Slater]\n",
       "7                                  [Hazel]                        [Kim Mingyu]\n",
       "9                    [Eric, Niya, Natalie]       [Caron Simmons, Steven Smith]\n",
       "10                           [Rosé, River]                       [Maria Wills]\n",
       "12                         [Flynn, Cooper]                      [Cayden Cross]\n",
       "13                                  [Addi]                       [Yusuf Malik]\n",
       "15          [Ellie, Dorian, Theo, Tristen]  [Craig Dream Daddy, Hailey Willis]\n",
       "16                         [Willow, Ginny]                      [Hamza Mounib]\n",
       "17                                  [Bran]                    [Kade Pelletier]\n",
       "19                             [Jon, Arya]                   [Korbin Sherwood]\n",
       "21                           [Nova, Freya]                     [Chance Turner]\n",
       "22                        [Sirius, Stacey]                       [Jordan Weir]\n",
       "23                                 [Kasey]                       [Jace Thomas]\n",
       "25                        [Taylor, Tayler]                   [Khaled Al Fassi]\n",
       "29                         [Tegan, Archer]                        [Hawea Paoa]\n",
       "30  [Blaire, Brooke, Brendon, Hope, Bella]           [Afu Savea, Seiji Tanaka]\n",
       "34                            [Ever, Jake]                    [Derumk Kealoha]\n",
       "35                         [Romeo, Caesar]                        [Sai Ramesh]\n",
       "36                         [Harry, Dustin]                       [Duane Talla]\n",
       "37                                 [LeoJr]                 [Leonardo DiCaprio]\n",
       "38                                 [Logan]                      [Serena Moore]\n",
       "39                         [Holly, Hayley]                      [James Potter]\n",
       "40                                [Olivia]                       [Tom Holland]\n",
       "42              [ChelseaJr, Annie, Ashton]    [Finnegan Lambert, Theo Beckett]\n",
       "44                                [Phoebe]                       [Remus Lupin]\n",
       "46                          [Owen, Lucien]                   [Leonardo Parish]\n",
       "47                        [Autumn, August]                        [Noel Fritz]\n",
       "48                          [Mars, Conner]                  [Brooke Pieterson]\n",
       "50                                 [Blake]                      [Darrel Charm]\n",
       "52                        [Hannah, Elliot]                       [Fetu Paewai]\n",
       "55                                [Oliver]                  [Stephen Andersen]\n",
       "56                         [Kelly, Wesley]                    [Ryder Milligan]\n",
       "57                         [Henry, Holden]                        [Adam Beast]\n",
       "61                           [Josie, Cove]                    [Jase Marroquin]\n",
       "62                       [Delilah, Danyel]                       [Fred Jenson]\n",
       "63                                  [Ruth]                      [Messiah Reed]\n",
       "64                           [Todd, Jacob]                       [Carlos Dias]\n",
       "68                         [Eileen, Waldo]                     [Aquaman Momoa]\n",
       "69                                [Jennie]                       [BTS Namjoon]\n",
       "70                       [Rebekah, Dwayne]                      [BTS Jungkook]\n",
       "71                         [Loki, Eleanor]                     [Monica Geller]\n",
       "73                            [Koya, Rain]                         [BTS Jimin]\n",
       "74                            [Baby, Jane]                        [BTS J-Hope]\n",
       "76                             [Han, Hwan]                      [BTS Taehyung]\n",
       "77                                 [Keira]                        [Ekam Khosa]\n",
       "78                                 [Teddy]                  [Cataleya Collins]\n",
       "79                           [Levi, Belle]                  [Maleficent Moors]\n",
       "80                      [Tom, Timmy, Cara]          [Evil Queen, Jane Goodwin]\n",
       "81                                [Athena]                       [Emma Durham]\n",
       "82                          [Jayden, Josh]                       [Emma Durham]\n",
       "83                         [Zuko, William]              [Li Shang, Tony Stark]"
      ]
     },
     "execution_count": 4,
     "metadata": {},
     "output_type": "execute_result"
    }
   ],
   "source": [
    "per_episode_file = 'children_parents_per_episode.json'\n",
    "file = data_path.joinpath(per_episode_file)\n",
    "with open(file) as train_file:\n",
    "    per_episode = json.load(train_file)\n",
    "\n",
    "df_per_episode = pd.DataFrame.from_dict(per_episode, orient='index')\n",
    "df_per_episode"
   ]
  },
  {
   "cell_type": "code",
   "execution_count": 5,
   "metadata": {
    "tags": []
   },
   "outputs": [
    {
     "name": "stdout",
     "output_type": "stream",
     "text": [
      "1\n",
      "2\n",
      "4\n",
      "6\n",
      "7\n",
      "9\n",
      "10\n",
      "12\n",
      "13\n",
      "15\n",
      "16\n",
      "17\n",
      "19\n",
      "21\n",
      "22\n",
      "23\n",
      "25\n",
      "29\n",
      "30\n",
      "34\n",
      "35\n",
      "36\n",
      "37\n",
      "38\n",
      "39\n",
      "40\n",
      "42\n",
      "44\n",
      "46\n",
      "47\n",
      "48\n",
      "50\n",
      "52\n",
      "55\n",
      "56\n",
      "57\n",
      "61\n",
      "62\n",
      "63\n",
      "64\n",
      "68\n",
      "69\n",
      "70\n",
      "71\n",
      "73\n",
      "74\n",
      "76\n",
      "77\n",
      "78\n",
      "79\n",
      "80\n",
      "81\n",
      "82\n",
      "83\n"
     ]
    }
   ],
   "source": [
    "# Filter out names\n",
    "filtered_dict = dict_train.copy()\n",
    "number_of_episodes = len(filtered_dict)\n",
    "birth_episodes = df_per_episode.index\n",
    "for birth_episode in birth_episodes:\n",
    "    i = int(birth_episode)\n",
    "    print(i)\n",
    "    to_remove = []\n",
    "    to_remove.extend(df_per_episode.loc[birth_episode][\"child\"])\n",
    "    for parent in df_per_episode.loc[birth_episode][\"parent\"]:\n",
    "        to_remove.extend(parent.split(\" \"))\n",
    "    for name in to_remove:\n",
    "        name = name.lower()\n",
    "        for episode in range(i, number_of_episodes + 1):\n",
    "            if name in filtered_dict[str(episode)].keys():\n",
    "                del filtered_dict[str(episode)][name]\n",
    "                #print(\"Deleting \", name, episode)"
   ]
  },
  {
   "cell_type": "code",
   "execution_count": 6,
   "metadata": {
    "tags": []
   },
   "outputs": [
    {
     "data": {
      "text/html": [
       "<div>\n",
       "<style scoped>\n",
       "    .dataframe tbody tr th:only-of-type {\n",
       "        vertical-align: middle;\n",
       "    }\n",
       "\n",
       "    .dataframe tbody tr th {\n",
       "        vertical-align: top;\n",
       "    }\n",
       "\n",
       "    .dataframe thead th {\n",
       "        text-align: right;\n",
       "    }\n",
       "</style>\n",
       "<table border=\"1\" class=\"dataframe\">\n",
       "  <thead>\n",
       "    <tr style=\"text-align: right;\">\n",
       "      <th></th>\n",
       "      <th>nancy</th>\n",
       "      <th>dominic</th>\n",
       "      <th>steph</th>\n",
       "      <th>emma</th>\n",
       "      <th>jay</th>\n",
       "      <th>yasmine</th>\n",
       "      <th>craig</th>\n",
       "      <th>ley</th>\n",
       "      <th>lili</th>\n",
       "      <th>kasey</th>\n",
       "      <th>...</th>\n",
       "      <th>felina</th>\n",
       "      <th>tarus</th>\n",
       "      <th>pacino</th>\n",
       "      <th>kydon</th>\n",
       "      <th>hundley</th>\n",
       "      <th>ambrocio</th>\n",
       "      <th>bassett</th>\n",
       "      <th>kumara</th>\n",
       "      <th>sinatra</th>\n",
       "      <th>olivar</th>\n",
       "    </tr>\n",
       "  </thead>\n",
       "  <tbody>\n",
       "    <tr>\n",
       "      <th>1</th>\n",
       "      <td>117.0</td>\n",
       "      <td>97.0</td>\n",
       "      <td>84.0</td>\n",
       "      <td>38.0</td>\n",
       "      <td>23</td>\n",
       "      <td>22.0</td>\n",
       "      <td>21.0</td>\n",
       "      <td>20.0</td>\n",
       "      <td>19.0</td>\n",
       "      <td>18.0</td>\n",
       "      <td>...</td>\n",
       "      <td>NaN</td>\n",
       "      <td>NaN</td>\n",
       "      <td>NaN</td>\n",
       "      <td>NaN</td>\n",
       "      <td>NaN</td>\n",
       "      <td>NaN</td>\n",
       "      <td>NaN</td>\n",
       "      <td>NaN</td>\n",
       "      <td>NaN</td>\n",
       "      <td>NaN</td>\n",
       "    </tr>\n",
       "    <tr>\n",
       "      <th>2</th>\n",
       "      <td>10.0</td>\n",
       "      <td>NaN</td>\n",
       "      <td>6.0</td>\n",
       "      <td>24.0</td>\n",
       "      <td>13</td>\n",
       "      <td>1.0</td>\n",
       "      <td>10.0</td>\n",
       "      <td>15.0</td>\n",
       "      <td>22.0</td>\n",
       "      <td>2.0</td>\n",
       "      <td>...</td>\n",
       "      <td>NaN</td>\n",
       "      <td>NaN</td>\n",
       "      <td>NaN</td>\n",
       "      <td>NaN</td>\n",
       "      <td>NaN</td>\n",
       "      <td>NaN</td>\n",
       "      <td>NaN</td>\n",
       "      <td>NaN</td>\n",
       "      <td>NaN</td>\n",
       "      <td>NaN</td>\n",
       "    </tr>\n",
       "    <tr>\n",
       "      <th>3</th>\n",
       "      <td>23.0</td>\n",
       "      <td>NaN</td>\n",
       "      <td>4.0</td>\n",
       "      <td>67.0</td>\n",
       "      <td>19</td>\n",
       "      <td>3.0</td>\n",
       "      <td>49.0</td>\n",
       "      <td>10.0</td>\n",
       "      <td>14.0</td>\n",
       "      <td>2.0</td>\n",
       "      <td>...</td>\n",
       "      <td>NaN</td>\n",
       "      <td>NaN</td>\n",
       "      <td>NaN</td>\n",
       "      <td>NaN</td>\n",
       "      <td>NaN</td>\n",
       "      <td>NaN</td>\n",
       "      <td>NaN</td>\n",
       "      <td>NaN</td>\n",
       "      <td>NaN</td>\n",
       "      <td>NaN</td>\n",
       "    </tr>\n",
       "    <tr>\n",
       "      <th>4</th>\n",
       "      <td>13.0</td>\n",
       "      <td>NaN</td>\n",
       "      <td>4.0</td>\n",
       "      <td>151.0</td>\n",
       "      <td>18</td>\n",
       "      <td>4.0</td>\n",
       "      <td>88.0</td>\n",
       "      <td>20.0</td>\n",
       "      <td>9.0</td>\n",
       "      <td>5.0</td>\n",
       "      <td>...</td>\n",
       "      <td>NaN</td>\n",
       "      <td>NaN</td>\n",
       "      <td>NaN</td>\n",
       "      <td>NaN</td>\n",
       "      <td>NaN</td>\n",
       "      <td>NaN</td>\n",
       "      <td>NaN</td>\n",
       "      <td>NaN</td>\n",
       "      <td>NaN</td>\n",
       "      <td>NaN</td>\n",
       "    </tr>\n",
       "    <tr>\n",
       "      <th>5</th>\n",
       "      <td>12.0</td>\n",
       "      <td>NaN</td>\n",
       "      <td>11.0</td>\n",
       "      <td>49.0</td>\n",
       "      <td>7</td>\n",
       "      <td>3.0</td>\n",
       "      <td>125.0</td>\n",
       "      <td>5.0</td>\n",
       "      <td>5.0</td>\n",
       "      <td>1.0</td>\n",
       "      <td>...</td>\n",
       "      <td>NaN</td>\n",
       "      <td>NaN</td>\n",
       "      <td>NaN</td>\n",
       "      <td>NaN</td>\n",
       "      <td>NaN</td>\n",
       "      <td>NaN</td>\n",
       "      <td>NaN</td>\n",
       "      <td>NaN</td>\n",
       "      <td>NaN</td>\n",
       "      <td>NaN</td>\n",
       "    </tr>\n",
       "    <tr>\n",
       "      <th>...</th>\n",
       "      <td>...</td>\n",
       "      <td>...</td>\n",
       "      <td>...</td>\n",
       "      <td>...</td>\n",
       "      <td>...</td>\n",
       "      <td>...</td>\n",
       "      <td>...</td>\n",
       "      <td>...</td>\n",
       "      <td>...</td>\n",
       "      <td>...</td>\n",
       "      <td>...</td>\n",
       "      <td>...</td>\n",
       "      <td>...</td>\n",
       "      <td>...</td>\n",
       "      <td>...</td>\n",
       "      <td>...</td>\n",
       "      <td>...</td>\n",
       "      <td>...</td>\n",
       "      <td>...</td>\n",
       "      <td>...</td>\n",
       "      <td>...</td>\n",
       "    </tr>\n",
       "    <tr>\n",
       "      <th>79</th>\n",
       "      <td>NaN</td>\n",
       "      <td>NaN</td>\n",
       "      <td>NaN</td>\n",
       "      <td>12.0</td>\n",
       "      <td>10</td>\n",
       "      <td>NaN</td>\n",
       "      <td>NaN</td>\n",
       "      <td>NaN</td>\n",
       "      <td>3.0</td>\n",
       "      <td>NaN</td>\n",
       "      <td>...</td>\n",
       "      <td>NaN</td>\n",
       "      <td>NaN</td>\n",
       "      <td>NaN</td>\n",
       "      <td>NaN</td>\n",
       "      <td>NaN</td>\n",
       "      <td>NaN</td>\n",
       "      <td>NaN</td>\n",
       "      <td>NaN</td>\n",
       "      <td>NaN</td>\n",
       "      <td>NaN</td>\n",
       "    </tr>\n",
       "    <tr>\n",
       "      <th>80</th>\n",
       "      <td>3.0</td>\n",
       "      <td>NaN</td>\n",
       "      <td>NaN</td>\n",
       "      <td>23.0</td>\n",
       "      <td>8</td>\n",
       "      <td>2.0</td>\n",
       "      <td>NaN</td>\n",
       "      <td>NaN</td>\n",
       "      <td>2.0</td>\n",
       "      <td>NaN</td>\n",
       "      <td>...</td>\n",
       "      <td>NaN</td>\n",
       "      <td>NaN</td>\n",
       "      <td>NaN</td>\n",
       "      <td>NaN</td>\n",
       "      <td>NaN</td>\n",
       "      <td>NaN</td>\n",
       "      <td>NaN</td>\n",
       "      <td>NaN</td>\n",
       "      <td>NaN</td>\n",
       "      <td>NaN</td>\n",
       "    </tr>\n",
       "    <tr>\n",
       "      <th>81</th>\n",
       "      <td>1.0</td>\n",
       "      <td>NaN</td>\n",
       "      <td>NaN</td>\n",
       "      <td>NaN</td>\n",
       "      <td>3</td>\n",
       "      <td>NaN</td>\n",
       "      <td>NaN</td>\n",
       "      <td>1.0</td>\n",
       "      <td>NaN</td>\n",
       "      <td>NaN</td>\n",
       "      <td>...</td>\n",
       "      <td>NaN</td>\n",
       "      <td>NaN</td>\n",
       "      <td>NaN</td>\n",
       "      <td>NaN</td>\n",
       "      <td>NaN</td>\n",
       "      <td>NaN</td>\n",
       "      <td>NaN</td>\n",
       "      <td>NaN</td>\n",
       "      <td>NaN</td>\n",
       "      <td>NaN</td>\n",
       "    </tr>\n",
       "    <tr>\n",
       "      <th>82</th>\n",
       "      <td>2.0</td>\n",
       "      <td>NaN</td>\n",
       "      <td>1.0</td>\n",
       "      <td>NaN</td>\n",
       "      <td>2</td>\n",
       "      <td>NaN</td>\n",
       "      <td>NaN</td>\n",
       "      <td>NaN</td>\n",
       "      <td>NaN</td>\n",
       "      <td>NaN</td>\n",
       "      <td>...</td>\n",
       "      <td>1.0</td>\n",
       "      <td>NaN</td>\n",
       "      <td>NaN</td>\n",
       "      <td>NaN</td>\n",
       "      <td>NaN</td>\n",
       "      <td>NaN</td>\n",
       "      <td>NaN</td>\n",
       "      <td>NaN</td>\n",
       "      <td>NaN</td>\n",
       "      <td>NaN</td>\n",
       "    </tr>\n",
       "    <tr>\n",
       "      <th>83</th>\n",
       "      <td>4.0</td>\n",
       "      <td>NaN</td>\n",
       "      <td>1.0</td>\n",
       "      <td>NaN</td>\n",
       "      <td>1</td>\n",
       "      <td>NaN</td>\n",
       "      <td>NaN</td>\n",
       "      <td>NaN</td>\n",
       "      <td>NaN</td>\n",
       "      <td>NaN</td>\n",
       "      <td>...</td>\n",
       "      <td>NaN</td>\n",
       "      <td>1.0</td>\n",
       "      <td>1.0</td>\n",
       "      <td>1.0</td>\n",
       "      <td>1.0</td>\n",
       "      <td>1.0</td>\n",
       "      <td>1.0</td>\n",
       "      <td>1.0</td>\n",
       "      <td>1.0</td>\n",
       "      <td>1.0</td>\n",
       "    </tr>\n",
       "  </tbody>\n",
       "</table>\n",
       "<p>83 rows × 38007 columns</p>\n",
       "</div>"
      ],
      "text/plain": [
       "    nancy  dominic  steph   emma  jay  yasmine  craig   ley  lili  kasey  ...  \\\n",
       "1   117.0     97.0   84.0   38.0   23     22.0   21.0  20.0  19.0   18.0  ...   \n",
       "2    10.0      NaN    6.0   24.0   13      1.0   10.0  15.0  22.0    2.0  ...   \n",
       "3    23.0      NaN    4.0   67.0   19      3.0   49.0  10.0  14.0    2.0  ...   \n",
       "4    13.0      NaN    4.0  151.0   18      4.0   88.0  20.0   9.0    5.0  ...   \n",
       "5    12.0      NaN   11.0   49.0    7      3.0  125.0   5.0   5.0    1.0  ...   \n",
       "..    ...      ...    ...    ...  ...      ...    ...   ...   ...    ...  ...   \n",
       "79    NaN      NaN    NaN   12.0   10      NaN    NaN   NaN   3.0    NaN  ...   \n",
       "80    3.0      NaN    NaN   23.0    8      2.0    NaN   NaN   2.0    NaN  ...   \n",
       "81    1.0      NaN    NaN    NaN    3      NaN    NaN   1.0   NaN    NaN  ...   \n",
       "82    2.0      NaN    1.0    NaN    2      NaN    NaN   NaN   NaN    NaN  ...   \n",
       "83    4.0      NaN    1.0    NaN    1      NaN    NaN   NaN   NaN    NaN  ...   \n",
       "\n",
       "    felina  tarus  pacino  kydon  hundley  ambrocio  bassett  kumara  sinatra  \\\n",
       "1      NaN    NaN     NaN    NaN      NaN       NaN      NaN     NaN      NaN   \n",
       "2      NaN    NaN     NaN    NaN      NaN       NaN      NaN     NaN      NaN   \n",
       "3      NaN    NaN     NaN    NaN      NaN       NaN      NaN     NaN      NaN   \n",
       "4      NaN    NaN     NaN    NaN      NaN       NaN      NaN     NaN      NaN   \n",
       "5      NaN    NaN     NaN    NaN      NaN       NaN      NaN     NaN      NaN   \n",
       "..     ...    ...     ...    ...      ...       ...      ...     ...      ...   \n",
       "79     NaN    NaN     NaN    NaN      NaN       NaN      NaN     NaN      NaN   \n",
       "80     NaN    NaN     NaN    NaN      NaN       NaN      NaN     NaN      NaN   \n",
       "81     NaN    NaN     NaN    NaN      NaN       NaN      NaN     NaN      NaN   \n",
       "82     1.0    NaN     NaN    NaN      NaN       NaN      NaN     NaN      NaN   \n",
       "83     NaN    1.0     1.0    1.0      1.0       1.0      1.0     1.0      1.0   \n",
       "\n",
       "    olivar  \n",
       "1      NaN  \n",
       "2      NaN  \n",
       "3      NaN  \n",
       "4      NaN  \n",
       "5      NaN  \n",
       "..     ...  \n",
       "79     NaN  \n",
       "80     NaN  \n",
       "81     NaN  \n",
       "82     NaN  \n",
       "83     1.0  \n",
       "\n",
       "[83 rows x 38007 columns]"
      ]
     },
     "execution_count": 6,
     "metadata": {},
     "output_type": "execute_result"
    }
   ],
   "source": [
    "df = pd.DataFrame.from_dict(filtered_dict, orient='index')\n",
    "df = df.drop(columns=ignore_words)\n",
    "df = df.drop(columns=ignore_names)\n",
    "df            "
   ]
  },
  {
   "cell_type": "code",
   "execution_count": 7,
   "metadata": {},
   "outputs": [
    {
     "name": "stdout",
     "output_type": "stream",
     "text": [
      "{'nancy': 117.0}\n",
      "{'sergio': 219.0}\n",
      "{'kim': 187.0}\n",
      "{'emma': 151.0}\n",
      "{'craig': 125.0}\n",
      "{'kim': 423.0}\n",
      "{'emma': 150.0}\n",
      "{'emma': 140.0}\n",
      "{'emma': 2025.0}\n",
      "{'emma': 669.0}\n",
      "{'alex': 275.0}\n",
      "{'emma': 464.0}\n",
      "{'emma': 484.0}\n",
      "{'gavin': 546.0}\n",
      "{'gavin': 425.0}\n",
      "{'luna': 408.0}\n",
      "{'luna': 251.0}\n",
      "{'lily': 139.0}\n",
      "{'emma': 120.0}\n",
      "{'luna': 120.0}\n",
      "{'luna': 433.0}\n",
      "{'luna': 420.0}\n",
      "{'luna': 341.0}\n",
      "{'harry': 267.0}\n",
      "{'tegan': 227.0}\n",
      "{'lily': 54.0}\n",
      "{'cameron': 51.0}\n",
      "{'shawn': 52.0}\n",
      "{'emma': 125.0}\n",
      "{'emma': 200.0}\n",
      "{'alex': 130.0}\n",
      "{'luna': 91.0}\n",
      "{'teal': 151.0}\n",
      "{'harry': 137.0}\n",
      "{'luna': 111.0}\n",
      "{'leo': 342.0}\n",
      "{'violet': 518.0}\n",
      "{'lily': 292.0}\n",
      "{'tom': 1381.0}\n",
      "{'harriet': 311.0}\n",
      "{'harriet': 51.0}\n",
      "{'jack': 90.0}\n",
      "{'remus': 126.0}\n",
      "{'chandler': 69.0}\n",
      "{'rachel': 78.0}\n",
      "{'luke': 66.0}\n",
      "{'jack': 55.0}\n",
      "{'noelle': 80.0}\n",
      "{'luke': 56.0}\n",
      "{'jasmine': 58.0}\n",
      "{'alex': 59.0}\n",
      "{'corona': 83.0}\n",
      "{'alex': 32.0}\n",
      "{'lily': 36.0}\n",
      "{'ryder': 175.0}\n",
      "{'luna': 24.0}\n",
      "{'liam': 43.0}\n",
      "{'lily': 29.0}\n",
      "{'lily': 17.0}\n",
      "{'luna': 24.0}\n",
      "{'luna': 64.0}\n",
      "{'emma': 36.0}\n",
      "{'jack': 48.0}\n",
      "{'emma': 53.0}\n",
      "{'alexander': 35.0}\n",
      "{'kamala': 33.0}\n",
      "{'ariel': 39.0}\n",
      "{'ross': 55.0}\n",
      "{'monica': 34.0}\n",
      "{'emma': 27.0}\n",
      "{'emma': 29.0}\n",
      "{'klaus': 25.0}\n",
      "{'emma': 31.0}\n",
      "{'emma': 22.0}\n",
      "{'emma': 16.0}\n",
      "{'alex': 21.0}\n",
      "{'gloria': 38.0}\n",
      "{'aurora': 76.0}\n",
      "{'evie': 26.0}\n",
      "{'wanda': 27.0}\n",
      "{'wanda': 31.0}\n",
      "{'whitney': 19.0}\n",
      "{'lily': 54.0}\n",
      "[1, 2, 3, 4, 5, 6, 7, 8, 9, 10, 11, 12, 13, 14, 15, 16, 17, 18, 19, 20, 21, 22, 23, 24, 25, 26, 27, 28, 29, 30, 31, 32, 33, 34, 35, 36, 37, 38, 39, 40, 41, 42, 43, 44, 45, 46, 47, 48, 49, 50, 51, 52, 53, 54, 55, 56, 57, 58, 59, 60, 61, 62, 63, 64, 65, 66, 67, 68, 69, 70, 71, 72, 73, 74, 75, 76, 77, 78, 79, 80, 81, 82, 83]\n",
      "[117.0, 219.0, 187.0, 151.0, 125.0, 423.0, 150.0, 140.0, 2025.0, 669.0, 275.0, 464.0, 484.0, 546.0, 425.0, 408.0, 251.0, 139.0, 120.0, 120.0, 433.0, 420.0, 341.0, 267.0, 227.0, 54.0, 51.0, 52.0, 125.0, 200.0, 130.0, 91.0, 151.0, 137.0, 111.0, 342.0, 518.0, 292.0, 1381.0, 311.0, 51.0, 90.0, 126.0, 69.0, 78.0, 66.0, 55.0, 80.0, 56.0, 58.0, 59.0, 83.0, 32.0, 36.0, 175.0, 24.0, 43.0, 29.0, 17.0, 24.0, 64.0, 36.0, 48.0, 53.0, 35.0, 33.0, 39.0, 55.0, 34.0, 27.0, 29.0, 25.0, 31.0, 22.0, 16.0, 21.0, 38.0, 76.0, 26.0, 27.0, 31.0, 19.0, 54.0]\n",
      "['nancy', 'sergio', 'kim', 'emma', 'craig', 'kim', 'emma', 'emma', 'emma', 'emma', 'alex', 'emma', 'emma', 'gavin', 'gavin', 'luna', 'luna', 'lily', 'emma', 'luna', 'luna', 'luna', 'luna', 'harry', 'tegan', 'lily', 'cameron', 'shawn', 'emma', 'emma', 'alex', 'luna', 'teal', 'harry', 'luna', 'leo', 'violet', 'lily', 'tom', 'harriet', 'harriet', 'jack', 'remus', 'chandler', 'rachel', 'luke', 'jack', 'noelle', 'luke', 'jasmine', 'alex', 'corona', 'alex', 'lily', 'ryder', 'luna', 'liam', 'lily', 'lily', 'luna', 'luna', 'emma', 'jack', 'emma', 'alexander', 'kamala', 'ariel', 'ross', 'monica', 'emma', 'emma', 'klaus', 'emma', 'emma', 'emma', 'alex', 'gloria', 'aurora', 'evie', 'wanda', 'wanda', 'whitney', 'lily']\n"
     ]
    }
   ],
   "source": [
    "episodes = [x for x in range(1, 84)]\n",
    "counts = []\n",
    "names = []\n",
    "for i in range(83):\n",
    "    top_name = dict(df.iloc[i].sort_values(ascending=False, na_position='last').head(1))\n",
    "    print(top_name)\n",
    "    counts.append(list(top_name.values())[0])\n",
    "    names.append(list(top_name.keys())[0])\n",
    "print(episodes)\n",
    "print(counts)\n",
    "print(names)"
   ]
  },
  {
   "cell_type": "code",
   "execution_count": null,
   "metadata": {},
   "outputs": [],
   "source": [
    "\n"
   ]
  },
  {
   "cell_type": "code",
   "execution_count": 8,
   "metadata": {},
   "outputs": [
    {
     "data": {
      "text/plain": [
       "emma       9778.0\n",
       "alex       9381.0\n",
       "lily       9011.0\n",
       "luna       8660.0\n",
       "jack       8328.0\n",
       "noah       7509.0\n",
       "emily      6628.0\n",
       "james      6626.0\n",
       "luke       6475.0\n",
       "sam        6006.0\n",
       "rose       5942.0\n",
       "liam       5888.0\n",
       "grace      5573.0\n",
       "mia        5518.0\n",
       "leo        5430.0\n",
       "ava        5388.0\n",
       "oliver     5336.0\n",
       "ryan       5245.0\n",
       "jackson    5243.0\n",
       "jacob      5140.0\n",
       "chloe      5015.0\n",
       "ella       4914.0\n",
       "lucas      4913.0\n",
       "olivia     4879.0\n",
       "harry      4810.0\n",
       "daniel     4801.0\n",
       "ethan      4760.0\n",
       "anna       4502.0\n",
       "tyler      4466.0\n",
       "mason      4402.0\n",
       "dtype: float64"
      ]
     },
     "execution_count": 8,
     "metadata": {},
     "output_type": "execute_result"
    }
   ],
   "source": [
    "df_sum = df.sum(axis = 0, skipna = True)\n",
    "df_sum = df_sum.sort_values(ascending=False, na_position='last')\n",
    "df_sum.head(30)"
   ]
  },
  {
   "cell_type": "code",
   "execution_count": 9,
   "metadata": {},
   "outputs": [],
   "source": [
    "#for plotting images & adjusting colors\n",
    "import matplotlib.pyplot as plt\n",
    "import matplotlib as mpl\n",
    "from wordcloud import WordCloud, STOPWORDS, ImageColorGenerator\n",
    "from PIL import Image"
   ]
  },
  {
   "cell_type": "code",
   "execution_count": 10,
   "metadata": {},
   "outputs": [
    {
     "data": {
      "image/png": "[encoded data removed]",
      "text/plain": [
       "<Figure size 1296x432 with 1 Axes>"
      ]
     },
     "metadata": {
      "needs_background": "light"
     },
     "output_type": "display_data"
    }
   ],
   "source": [
    "top_dict = df_sum.head(100).to_dict()\n",
    "# create the WordCloud object\n",
    "wordcloud = WordCloud(min_word_length =3,\n",
    "                      background_color='white', width = 800, height = 400, colormap=\"Set2\")\n",
    "\n",
    "# generate the word cloud\n",
    "wordcloud.generate_from_frequencies(top_dict)\n",
    "#plot\n",
    "fig, ax = plt.subplots(figsize=(18, 6)) \n",
    "ax.imshow(wordcloud)\n",
    "ax.axis('off')\n",
    "plt.tight_layout()\n",
    "plt.show()"
   ]
  },
  {
   "cell_type": "code",
   "execution_count": 46,
   "metadata": {},
   "outputs": [],
   "source": [
    "\n",
    "import plotly.graph_objects as go\n",
    "fig = go.Figure(data=[go.Table(\n",
    "    columnwidth = [15,60,25],\n",
    "    header=dict(values=['Episode', 'Top name', '# of mentions'], align=['right','center', 'left']),\n",
    "    cells=dict(values=[episodes, [name.capitalize() for name in names], counts], align=['right','center', 'left'],))\n",
    "                     ])\n",
    "fig.update_layout(width=500, height=1700)\n",
    "fig['layout'].update(margin=dict(l=0,r=0,b=0,t=0))\n",
    "fig.write_image(str(data_path.joinpath(\"topforallepisodes.png\")))\n",
    "#fig.show()"
   ]
  },
  {
   "cell_type": "code",
   "execution_count": 42,
   "metadata": {},
   "outputs": [
    {
     "data": {
      "text/plain": [
       "emma     9778.0\n",
       "alex     9381.0\n",
       "lily     9011.0\n",
       "luna     8660.0\n",
       "jack     8328.0\n",
       "noah     7509.0\n",
       "emily    6628.0\n",
       "james    6626.0\n",
       "luke     6475.0\n",
       "sam      6006.0\n",
       "dtype: float64"
      ]
     },
     "execution_count": 42,
     "metadata": {},
     "output_type": "execute_result"
    }
   ],
   "source": [
    "df_sum.head(10)"
   ]
  },
  {
   "cell_type": "code",
   "execution_count": 41,
   "metadata": {},
   "outputs": [
    {
     "name": "stdout",
     "output_type": "stream",
     "text": [
      "['emma', 'alex', 'lily', 'luna', 'jack', 'noah', 'emily', 'james', 'luke', 'sam']\n",
      "[9778.0, 9381.0, 9011.0, 8660.0, 8328.0, 7509.0, 6628.0, 6626.0, 6475.0, 6006.0]\n"
     ]
    },
    {
     "data": {
      "application/vnd.plotly.v1+json": {
       "config": {
        "plotlyServerURL": "https://plot.ly"
       },
       "data": [
        {
         "cells": {
          "align": [
           "left",
           "center",
           "left"
          ],
          "values": [
           [
            1,
            2,
            3,
            4,
            5,
            6,
            7,
            8,
            9,
            10
           ],
           [
            "Emma",
            "Alex",
            "Lily",
            "Luna",
            "Jack",
            "Noah",
            "Emily",
            "James",
            "Luke",
            "Sam"
           ],
           [
            9778,
            9381,
            9011,
            8660,
            8328,
            7509,
            6628,
            6626,
            6475,
            6006
           ]
          ]
         },
         "columnwidth": [
          10,
          50,
          40
         ],
         "header": {
          "align": [
           "left",
           "center",
           "left"
          ],
          "values": [
           "",
           "Name",
           "# of mentions"
          ]
         },
         "type": "table"
        }
       ],
       "layout": {
        "height": 310,
        "margin": {
         "b": 0,
         "l": 0,
         "r": 0,
         "t": 0
        },
        "template": {
         "data": {
          "bar": [
           {
            "error_x": {
             "color": "#2a3f5f"
            },
            "error_y": {
             "color": "#2a3f5f"
            },
            "marker": {
             "line": {
              "color": "#E5ECF6",
              "width": 0.5
             }
            },
            "type": "bar"
           }
          ],
          "barpolar": [
           {
            "marker": {
             "line": {
              "color": "#E5ECF6",
              "width": 0.5
             }
            },
            "type": "barpolar"
           }
          ],
          "carpet": [
           {
            "aaxis": {
             "endlinecolor": "#2a3f5f",
             "gridcolor": "white",
             "linecolor": "white",
             "minorgridcolor": "white",
             "startlinecolor": "#2a3f5f"
            },
            "baxis": {
             "endlinecolor": "#2a3f5f",
             "gridcolor": "white",
             "linecolor": "white",
             "minorgridcolor": "white",
             "startlinecolor": "#2a3f5f"
            },
            "type": "carpet"
           }
          ],
          "choropleth": [
           {
            "colorbar": {
             "outlinewidth": 0,
             "ticks": ""
            },
            "type": "choropleth"
           }
          ],
          "contour": [
           {
            "colorbar": {
             "outlinewidth": 0,
             "ticks": ""
            },
            "colorscale": [
             [
              0,
              "#0d0887"
             ],
             [
              0.1111111111111111,
              "#46039f"
             ],
             [
              0.2222222222222222,
              "#7201a8"
             ],
             [
              0.3333333333333333,
              "#9c179e"
             ],
             [
              0.4444444444444444,
              "#bd3786"
             ],
             [
              0.5555555555555556,
              "#d8576b"
             ],
             [
              0.6666666666666666,
              "#ed7953"
             ],
             [
              0.7777777777777778,
              "#fb9f3a"
             ],
             [
              0.8888888888888888,
              "#fdca26"
             ],
             [
              1,
              "#f0f921"
             ]
            ],
            "type": "contour"
           }
          ],
          "contourcarpet": [
           {
            "colorbar": {
             "outlinewidth": 0,
             "ticks": ""
            },
            "type": "contourcarpet"
           }
          ],
          "heatmap": [
           {
            "colorbar": {
             "outlinewidth": 0,
             "ticks": ""
            },
            "colorscale": [
             [
              0,
              "#0d0887"
             ],
             [
              0.1111111111111111,
              "#46039f"
             ],
             [
              0.2222222222222222,
              "#7201a8"
             ],
             [
              0.3333333333333333,
              "#9c179e"
             ],
             [
              0.4444444444444444,
              "#bd3786"
             ],
             [
              0.5555555555555556,
              "#d8576b"
             ],
             [
              0.6666666666666666,
              "#ed7953"
             ],
             [
              0.7777777777777778,
              "#fb9f3a"
             ],
             [
              0.8888888888888888,
              "#fdca26"
             ],
             [
              1,
              "#f0f921"
             ]
            ],
            "type": "heatmap"
           }
          ],
          "heatmapgl": [
           {
            "colorbar": {
             "outlinewidth": 0,
             "ticks": ""
            },
            "colorscale": [
             [
              0,
              "#0d0887"
             ],
             [
              0.1111111111111111,
              "#46039f"
             ],
             [
              0.2222222222222222,
              "#7201a8"
             ],
             [
              0.3333333333333333,
              "#9c179e"
             ],
             [
              0.4444444444444444,
              "#bd3786"
             ],
             [
              0.5555555555555556,
              "#d8576b"
             ],
             [
              0.6666666666666666,
              "#ed7953"
             ],
             [
              0.7777777777777778,
              "#fb9f3a"
             ],
             [
              0.8888888888888888,
              "#fdca26"
             ],
             [
              1,
              "#f0f921"
             ]
            ],
            "type": "heatmapgl"
           }
          ],
          "histogram": [
           {
            "marker": {
             "colorbar": {
              "outlinewidth": 0,
              "ticks": ""
             }
            },
            "type": "histogram"
           }
          ],
          "histogram2d": [
           {
            "colorbar": {
             "outlinewidth": 0,
             "ticks": ""
            },
            "colorscale": [
             [
              0,
              "#0d0887"
             ],
             [
              0.1111111111111111,
              "#46039f"
             ],
             [
              0.2222222222222222,
              "#7201a8"
             ],
             [
              0.3333333333333333,
              "#9c179e"
             ],
             [
              0.4444444444444444,
              "#bd3786"
             ],
             [
              0.5555555555555556,
              "#d8576b"
             ],
             [
              0.6666666666666666,
              "#ed7953"
             ],
             [
              0.7777777777777778,
              "#fb9f3a"
             ],
             [
              0.8888888888888888,
              "#fdca26"
             ],
             [
              1,
              "#f0f921"
             ]
            ],
            "type": "histogram2d"
           }
          ],
          "histogram2dcontour": [
           {
            "colorbar": {
             "outlinewidth": 0,
             "ticks": ""
            },
            "colorscale": [
             [
              0,
              "#0d0887"
             ],
             [
              0.1111111111111111,
              "#46039f"
             ],
             [
              0.2222222222222222,
              "#7201a8"
             ],
             [
              0.3333333333333333,
              "#9c179e"
             ],
             [
              0.4444444444444444,
              "#bd3786"
             ],
             [
              0.5555555555555556,
              "#d8576b"
             ],
             [
              0.6666666666666666,
              "#ed7953"
             ],
             [
              0.7777777777777778,
              "#fb9f3a"
             ],
             [
              0.8888888888888888,
              "#fdca26"
             ],
             [
              1,
              "#f0f921"
             ]
            ],
            "type": "histogram2dcontour"
           }
          ],
          "mesh3d": [
           {
            "colorbar": {
             "outlinewidth": 0,
             "ticks": ""
            },
            "type": "mesh3d"
           }
          ],
          "parcoords": [
           {
            "line": {
             "colorbar": {
              "outlinewidth": 0,
              "ticks": ""
             }
            },
            "type": "parcoords"
           }
          ],
          "pie": [
           {
            "automargin": true,
            "type": "pie"
           }
          ],
          "scatter": [
           {
            "marker": {
             "colorbar": {
              "outlinewidth": 0,
              "ticks": ""
             }
            },
            "type": "scatter"
           }
          ],
          "scatter3d": [
           {
            "line": {
             "colorbar": {
              "outlinewidth": 0,
              "ticks": ""
             }
            },
            "marker": {
             "colorbar": {
              "outlinewidth": 0,
              "ticks": ""
             }
            },
            "type": "scatter3d"
           }
          ],
          "scattercarpet": [
           {
            "marker": {
             "colorbar": {
              "outlinewidth": 0,
              "ticks": ""
             }
            },
            "type": "scattercarpet"
           }
          ],
          "scattergeo": [
           {
            "marker": {
             "colorbar": {
              "outlinewidth": 0,
              "ticks": ""
             }
            },
            "type": "scattergeo"
           }
          ],
          "scattergl": [
           {
            "marker": {
             "colorbar": {
              "outlinewidth": 0,
              "ticks": ""
             }
            },
            "type": "scattergl"
           }
          ],
          "scattermapbox": [
           {
            "marker": {
             "colorbar": {
              "outlinewidth": 0,
              "ticks": ""
             }
            },
            "type": "scattermapbox"
           }
          ],
          "scatterpolar": [
           {
            "marker": {
             "colorbar": {
              "outlinewidth": 0,
              "ticks": ""
             }
            },
            "type": "scatterpolar"
           }
          ],
          "scatterpolargl": [
           {
            "marker": {
             "colorbar": {
              "outlinewidth": 0,
              "ticks": ""
             }
            },
            "type": "scatterpolargl"
           }
          ],
          "scatterternary": [
           {
            "marker": {
             "colorbar": {
              "outlinewidth": 0,
              "ticks": ""
             }
            },
            "type": "scatterternary"
           }
          ],
          "surface": [
           {
            "colorbar": {
             "outlinewidth": 0,
             "ticks": ""
            },
            "colorscale": [
             [
              0,
              "#0d0887"
             ],
             [
              0.1111111111111111,
              "#46039f"
             ],
             [
              0.2222222222222222,
              "#7201a8"
             ],
             [
              0.3333333333333333,
              "#9c179e"
             ],
             [
              0.4444444444444444,
              "#bd3786"
             ],
             [
              0.5555555555555556,
              "#d8576b"
             ],
             [
              0.6666666666666666,
              "#ed7953"
             ],
             [
              0.7777777777777778,
              "#fb9f3a"
             ],
             [
              0.8888888888888888,
              "#fdca26"
             ],
             [
              1,
              "#f0f921"
             ]
            ],
            "type": "surface"
           }
          ],
          "table": [
           {
            "cells": {
             "fill": {
              "color": "#EBF0F8"
             },
             "line": {
              "color": "white"
             }
            },
            "header": {
             "fill": {
              "color": "#C8D4E3"
             },
             "line": {
              "color": "white"
             }
            },
            "type": "table"
           }
          ]
         },
         "layout": {
          "annotationdefaults": {
           "arrowcolor": "#2a3f5f",
           "arrowhead": 0,
           "arrowwidth": 1
          },
          "autotypenumbers": "strict",
          "coloraxis": {
           "colorbar": {
            "outlinewidth": 0,
            "ticks": ""
           }
          },
          "colorscale": {
           "diverging": [
            [
             0,
             "#8e0152"
            ],
            [
             0.1,
             "#c51b7d"
            ],
            [
             0.2,
             "#de77ae"
            ],
            [
             0.3,
             "#f1b6da"
            ],
            [
             0.4,
             "#fde0ef"
            ],
            [
             0.5,
             "#f7f7f7"
            ],
            [
             0.6,
             "#e6f5d0"
            ],
            [
             0.7,
             "#b8e186"
            ],
            [
             0.8,
             "#7fbc41"
            ],
            [
             0.9,
             "#4d9221"
            ],
            [
             1,
             "#276419"
            ]
           ],
           "sequential": [
            [
             0,
             "#0d0887"
            ],
            [
             0.1111111111111111,
             "#46039f"
            ],
            [
             0.2222222222222222,
             "#7201a8"
            ],
            [
             0.3333333333333333,
             "#9c179e"
            ],
            [
             0.4444444444444444,
             "#bd3786"
            ],
            [
             0.5555555555555556,
             "#d8576b"
            ],
            [
             0.6666666666666666,
             "#ed7953"
            ],
            [
             0.7777777777777778,
             "#fb9f3a"
            ],
            [
             0.8888888888888888,
             "#fdca26"
            ],
            [
             1,
             "#f0f921"
            ]
           ],
           "sequentialminus": [
            [
             0,
             "#0d0887"
            ],
            [
             0.1111111111111111,
             "#46039f"
            ],
            [
             0.2222222222222222,
             "#7201a8"
            ],
            [
             0.3333333333333333,
             "#9c179e"
            ],
            [
             0.4444444444444444,
             "#bd3786"
            ],
            [
             0.5555555555555556,
             "#d8576b"
            ],
            [
             0.6666666666666666,
             "#ed7953"
            ],
            [
             0.7777777777777778,
             "#fb9f3a"
            ],
            [
             0.8888888888888888,
             "#fdca26"
            ],
            [
             1,
             "#f0f921"
            ]
           ]
          },
          "colorway": [
           "#636efa",
           "#EF553B",
           "#00cc96",
           "#ab63fa",
           "#FFA15A",
           "#19d3f3",
           "#FF6692",
           "#B6E880",
           "#FF97FF",
           "#FECB52"
          ],
          "font": {
           "color": "#2a3f5f"
          },
          "geo": {
           "bgcolor": "white",
           "lakecolor": "white",
           "landcolor": "#E5ECF6",
           "showlakes": true,
           "showland": true,
           "subunitcolor": "white"
          },
          "hoverlabel": {
           "align": "left"
          },
          "hovermode": "closest",
          "mapbox": {
           "style": "light"
          },
          "paper_bgcolor": "white",
          "plot_bgcolor": "#E5ECF6",
          "polar": {
           "angularaxis": {
            "gridcolor": "white",
            "linecolor": "white",
            "ticks": ""
           },
           "bgcolor": "#E5ECF6",
           "radialaxis": {
            "gridcolor": "white",
            "linecolor": "white",
            "ticks": ""
           }
          },
          "scene": {
           "xaxis": {
            "backgroundcolor": "#E5ECF6",
            "gridcolor": "white",
            "gridwidth": 2,
            "linecolor": "white",
            "showbackground": true,
            "ticks": "",
            "zerolinecolor": "white"
           },
           "yaxis": {
            "backgroundcolor": "#E5ECF6",
            "gridcolor": "white",
            "gridwidth": 2,
            "linecolor": "white",
            "showbackground": true,
            "ticks": "",
            "zerolinecolor": "white"
           },
           "zaxis": {
            "backgroundcolor": "#E5ECF6",
            "gridcolor": "white",
            "gridwidth": 2,
            "linecolor": "white",
            "showbackground": true,
            "ticks": "",
            "zerolinecolor": "white"
           }
          },
          "shapedefaults": {
           "line": {
            "color": "#2a3f5f"
           }
          },
          "ternary": {
           "aaxis": {
            "gridcolor": "white",
            "linecolor": "white",
            "ticks": ""
           },
           "baxis": {
            "gridcolor": "white",
            "linecolor": "white",
            "ticks": ""
           },
           "bgcolor": "#E5ECF6",
           "caxis": {
            "gridcolor": "white",
            "linecolor": "white",
            "ticks": ""
           }
          },
          "title": {
           "x": 0.05
          },
          "xaxis": {
           "automargin": true,
           "gridcolor": "white",
           "linecolor": "white",
           "ticks": "",
           "title": {
            "standoff": 15
           },
           "zerolinecolor": "white",
           "zerolinewidth": 2
          },
          "yaxis": {
           "automargin": true,
           "gridcolor": "white",
           "linecolor": "white",
           "ticks": "",
           "title": {
            "standoff": 15
           },
           "zerolinecolor": "white",
           "zerolinewidth": 2
          }
         }
        },
        "width": 300
       }
      },
      "text/html": [
       "<div>                            <div id=\"fe45daca-8fb5-4062-9145-c02c5892a57a\" class=\"plotly-graph-div\" style=\"height:310px; width:300px;\"></div>            <script type=\"text/javascript\">                require([\"plotly\"], function(Plotly) {                    window.PLOTLYENV=window.PLOTLYENV || {};                                    if (document.getElementById(\"fe45daca-8fb5-4062-9145-c02c5892a57a\")) {                    Plotly.newPlot(                        \"fe45daca-8fb5-4062-9145-c02c5892a57a\",                        [{\"cells\": {\"align\": [\"left\", \"center\", \"left\"], \"values\": [[1, 2, 3, 4, 5, 6, 7, 8, 9, 10], [\"Emma\", \"Alex\", \"Lily\", \"Luna\", \"Jack\", \"Noah\", \"Emily\", \"James\", \"Luke\", \"Sam\"], [9778.0, 9381.0, 9011.0, 8660.0, 8328.0, 7509.0, 6628.0, 6626.0, 6475.0, 6006.0]]}, \"columnwidth\": [10, 50, 40], \"header\": {\"align\": [\"left\", \"center\", \"left\"], \"values\": [\"\", \"Name\", \"# of mentions\"]}, \"type\": \"table\"}],                        {\"height\": 310, \"margin\": {\"b\": 0, \"l\": 0, \"r\": 0, \"t\": 0}, \"template\": {\"data\": {\"bar\": [{\"error_x\": {\"color\": \"#2a3f5f\"}, \"error_y\": {\"color\": \"#2a3f5f\"}, \"marker\": {\"line\": {\"color\": \"#E5ECF6\", \"width\": 0.5}}, \"type\": \"bar\"}], \"barpolar\": [{\"marker\": {\"line\": {\"color\": \"#E5ECF6\", \"width\": 0.5}}, \"type\": \"barpolar\"}], \"carpet\": [{\"aaxis\": {\"endlinecolor\": \"#2a3f5f\", \"gridcolor\": \"white\", \"linecolor\": \"white\", \"minorgridcolor\": \"white\", \"startlinecolor\": \"#2a3f5f\"}, \"baxis\": {\"endlinecolor\": \"#2a3f5f\", \"gridcolor\": \"white\", \"linecolor\": \"white\", \"minorgridcolor\": \"white\", \"startlinecolor\": \"#2a3f5f\"}, \"type\": \"carpet\"}], \"choropleth\": [{\"colorbar\": {\"outlinewidth\": 0, \"ticks\": \"\"}, \"type\": \"choropleth\"}], \"contour\": [{\"colorbar\": {\"outlinewidth\": 0, \"ticks\": \"\"}, \"colorscale\": [[0.0, \"#0d0887\"], [0.1111111111111111, \"#46039f\"], [0.2222222222222222, \"#7201a8\"], [0.3333333333333333, \"#9c179e\"], [0.4444444444444444, \"#bd3786\"], [0.5555555555555556, \"#d8576b\"], [0.6666666666666666, \"#ed7953\"], [0.7777777777777778, \"#fb9f3a\"], [0.8888888888888888, \"#fdca26\"], [1.0, \"#f0f921\"]], \"type\": \"contour\"}], \"contourcarpet\": [{\"colorbar\": {\"outlinewidth\": 0, \"ticks\": \"\"}, \"type\": \"contourcarpet\"}], \"heatmap\": [{\"colorbar\": {\"outlinewidth\": 0, \"ticks\": \"\"}, \"colorscale\": [[0.0, \"#0d0887\"], [0.1111111111111111, \"#46039f\"], [0.2222222222222222, \"#7201a8\"], [0.3333333333333333, \"#9c179e\"], [0.4444444444444444, \"#bd3786\"], [0.5555555555555556, \"#d8576b\"], [0.6666666666666666, \"#ed7953\"], [0.7777777777777778, \"#fb9f3a\"], [0.8888888888888888, \"#fdca26\"], [1.0, \"#f0f921\"]], \"type\": \"heatmap\"}], \"heatmapgl\": [{\"colorbar\": {\"outlinewidth\": 0, \"ticks\": \"\"}, \"colorscale\": [[0.0, \"#0d0887\"], [0.1111111111111111, \"#46039f\"], [0.2222222222222222, \"#7201a8\"], [0.3333333333333333, \"#9c179e\"], [0.4444444444444444, \"#bd3786\"], [0.5555555555555556, \"#d8576b\"], [0.6666666666666666, \"#ed7953\"], [0.7777777777777778, \"#fb9f3a\"], [0.8888888888888888, \"#fdca26\"], [1.0, \"#f0f921\"]], \"type\": \"heatmapgl\"}], \"histogram\": [{\"marker\": {\"colorbar\": {\"outlinewidth\": 0, \"ticks\": \"\"}}, \"type\": \"histogram\"}], \"histogram2d\": [{\"colorbar\": {\"outlinewidth\": 0, \"ticks\": \"\"}, \"colorscale\": [[0.0, \"#0d0887\"], [0.1111111111111111, \"#46039f\"], [0.2222222222222222, \"#7201a8\"], [0.3333333333333333, \"#9c179e\"], [0.4444444444444444, \"#bd3786\"], [0.5555555555555556, \"#d8576b\"], [0.6666666666666666, \"#ed7953\"], [0.7777777777777778, \"#fb9f3a\"], [0.8888888888888888, \"#fdca26\"], [1.0, \"#f0f921\"]], \"type\": \"histogram2d\"}], \"histogram2dcontour\": [{\"colorbar\": {\"outlinewidth\": 0, \"ticks\": \"\"}, \"colorscale\": [[0.0, \"#0d0887\"], [0.1111111111111111, \"#46039f\"], [0.2222222222222222, \"#7201a8\"], [0.3333333333333333, \"#9c179e\"], [0.4444444444444444, \"#bd3786\"], [0.5555555555555556, \"#d8576b\"], [0.6666666666666666, \"#ed7953\"], [0.7777777777777778, \"#fb9f3a\"], [0.8888888888888888, \"#fdca26\"], [1.0, \"#f0f921\"]], \"type\": \"histogram2dcontour\"}], \"mesh3d\": [{\"colorbar\": {\"outlinewidth\": 0, \"ticks\": \"\"}, \"type\": \"mesh3d\"}], \"parcoords\": [{\"line\": {\"colorbar\": {\"outlinewidth\": 0, \"ticks\": \"\"}}, \"type\": \"parcoords\"}], \"pie\": [{\"automargin\": true, \"type\": \"pie\"}], \"scatter\": [{\"marker\": {\"colorbar\": {\"outlinewidth\": 0, \"ticks\": \"\"}}, \"type\": \"scatter\"}], \"scatter3d\": [{\"line\": {\"colorbar\": {\"outlinewidth\": 0, \"ticks\": \"\"}}, \"marker\": {\"colorbar\": {\"outlinewidth\": 0, \"ticks\": \"\"}}, \"type\": \"scatter3d\"}], \"scattercarpet\": [{\"marker\": {\"colorbar\": {\"outlinewidth\": 0, \"ticks\": \"\"}}, \"type\": \"scattercarpet\"}], \"scattergeo\": [{\"marker\": {\"colorbar\": {\"outlinewidth\": 0, \"ticks\": \"\"}}, \"type\": \"scattergeo\"}], \"scattergl\": [{\"marker\": {\"colorbar\": {\"outlinewidth\": 0, \"ticks\": \"\"}}, \"type\": \"scattergl\"}], \"scattermapbox\": [{\"marker\": {\"colorbar\": {\"outlinewidth\": 0, \"ticks\": \"\"}}, \"type\": \"scattermapbox\"}], \"scatterpolar\": [{\"marker\": {\"colorbar\": {\"outlinewidth\": 0, \"ticks\": \"\"}}, \"type\": \"scatterpolar\"}], \"scatterpolargl\": [{\"marker\": {\"colorbar\": {\"outlinewidth\": 0, \"ticks\": \"\"}}, \"type\": \"scatterpolargl\"}], \"scatterternary\": [{\"marker\": {\"colorbar\": {\"outlinewidth\": 0, \"ticks\": \"\"}}, \"type\": \"scatterternary\"}], \"surface\": [{\"colorbar\": {\"outlinewidth\": 0, \"ticks\": \"\"}, \"colorscale\": [[0.0, \"#0d0887\"], [0.1111111111111111, \"#46039f\"], [0.2222222222222222, \"#7201a8\"], [0.3333333333333333, \"#9c179e\"], [0.4444444444444444, \"#bd3786\"], [0.5555555555555556, \"#d8576b\"], [0.6666666666666666, \"#ed7953\"], [0.7777777777777778, \"#fb9f3a\"], [0.8888888888888888, \"#fdca26\"], [1.0, \"#f0f921\"]], \"type\": \"surface\"}], \"table\": [{\"cells\": {\"fill\": {\"color\": \"#EBF0F8\"}, \"line\": {\"color\": \"white\"}}, \"header\": {\"fill\": {\"color\": \"#C8D4E3\"}, \"line\": {\"color\": \"white\"}}, \"type\": \"table\"}]}, \"layout\": {\"annotationdefaults\": {\"arrowcolor\": \"#2a3f5f\", \"arrowhead\": 0, \"arrowwidth\": 1}, \"autotypenumbers\": \"strict\", \"coloraxis\": {\"colorbar\": {\"outlinewidth\": 0, \"ticks\": \"\"}}, \"colorscale\": {\"diverging\": [[0, \"#8e0152\"], [0.1, \"#c51b7d\"], [0.2, \"#de77ae\"], [0.3, \"#f1b6da\"], [0.4, \"#fde0ef\"], [0.5, \"#f7f7f7\"], [0.6, \"#e6f5d0\"], [0.7, \"#b8e186\"], [0.8, \"#7fbc41\"], [0.9, \"#4d9221\"], [1, \"#276419\"]], \"sequential\": [[0.0, \"#0d0887\"], [0.1111111111111111, \"#46039f\"], [0.2222222222222222, \"#7201a8\"], [0.3333333333333333, \"#9c179e\"], [0.4444444444444444, \"#bd3786\"], [0.5555555555555556, \"#d8576b\"], [0.6666666666666666, \"#ed7953\"], [0.7777777777777778, \"#fb9f3a\"], [0.8888888888888888, \"#fdca26\"], [1.0, \"#f0f921\"]], \"sequentialminus\": [[0.0, \"#0d0887\"], [0.1111111111111111, \"#46039f\"], [0.2222222222222222, \"#7201a8\"], [0.3333333333333333, \"#9c179e\"], [0.4444444444444444, \"#bd3786\"], [0.5555555555555556, \"#d8576b\"], [0.6666666666666666, \"#ed7953\"], [0.7777777777777778, \"#fb9f3a\"], [0.8888888888888888, \"#fdca26\"], [1.0, \"#f0f921\"]]}, \"colorway\": [\"#636efa\", \"#EF553B\", \"#00cc96\", \"#ab63fa\", \"#FFA15A\", \"#19d3f3\", \"#FF6692\", \"#B6E880\", \"#FF97FF\", \"#FECB52\"], \"font\": {\"color\": \"#2a3f5f\"}, \"geo\": {\"bgcolor\": \"white\", \"lakecolor\": \"white\", \"landcolor\": \"#E5ECF6\", \"showlakes\": true, \"showland\": true, \"subunitcolor\": \"white\"}, \"hoverlabel\": {\"align\": \"left\"}, \"hovermode\": \"closest\", \"mapbox\": {\"style\": \"light\"}, \"paper_bgcolor\": \"white\", \"plot_bgcolor\": \"#E5ECF6\", \"polar\": {\"angularaxis\": {\"gridcolor\": \"white\", \"linecolor\": \"white\", \"ticks\": \"\"}, \"bgcolor\": \"#E5ECF6\", \"radialaxis\": {\"gridcolor\": \"white\", \"linecolor\": \"white\", \"ticks\": \"\"}}, \"scene\": {\"xaxis\": {\"backgroundcolor\": \"#E5ECF6\", \"gridcolor\": \"white\", \"gridwidth\": 2, \"linecolor\": \"white\", \"showbackground\": true, \"ticks\": \"\", \"zerolinecolor\": \"white\"}, \"yaxis\": {\"backgroundcolor\": \"#E5ECF6\", \"gridcolor\": \"white\", \"gridwidth\": 2, \"linecolor\": \"white\", \"showbackground\": true, \"ticks\": \"\", \"zerolinecolor\": \"white\"}, \"zaxis\": {\"backgroundcolor\": \"#E5ECF6\", \"gridcolor\": \"white\", \"gridwidth\": 2, \"linecolor\": \"white\", \"showbackground\": true, \"ticks\": \"\", \"zerolinecolor\": \"white\"}}, \"shapedefaults\": {\"line\": {\"color\": \"#2a3f5f\"}}, \"ternary\": {\"aaxis\": {\"gridcolor\": \"white\", \"linecolor\": \"white\", \"ticks\": \"\"}, \"baxis\": {\"gridcolor\": \"white\", \"linecolor\": \"white\", \"ticks\": \"\"}, \"bgcolor\": \"#E5ECF6\", \"caxis\": {\"gridcolor\": \"white\", \"linecolor\": \"white\", \"ticks\": \"\"}}, \"title\": {\"x\": 0.05}, \"xaxis\": {\"automargin\": true, \"gridcolor\": \"white\", \"linecolor\": \"white\", \"ticks\": \"\", \"title\": {\"standoff\": 15}, \"zerolinecolor\": \"white\", \"zerolinewidth\": 2}, \"yaxis\": {\"automargin\": true, \"gridcolor\": \"white\", \"linecolor\": \"white\", \"ticks\": \"\", \"title\": {\"standoff\": 15}, \"zerolinecolor\": \"white\", \"zerolinewidth\": 2}}}, \"width\": 300},                        {\"responsive\": true}                    ).then(function(){\n",
       "                            \n",
       "var gd = document.getElementById('fe45daca-8fb5-4062-9145-c02c5892a57a');\n",
       "var x = new MutationObserver(function (mutations, observer) {{\n",
       "        var display = window.getComputedStyle(gd).display;\n",
       "        if (!display || display === 'none') {{\n",
       "            console.log([gd, 'removed!']);\n",
       "            Plotly.purge(gd);\n",
       "            observer.disconnect();\n",
       "        }}\n",
       "}});\n",
       "\n",
       "// Listen for the removal of the full notebook cells\n",
       "var notebookContainer = gd.closest('#notebook-container');\n",
       "if (notebookContainer) {{\n",
       "    x.observe(notebookContainer, {childList: true});\n",
       "}}\n",
       "\n",
       "// Listen for the clearing of the current output cell\n",
       "var outputEl = gd.closest('.output');\n",
       "if (outputEl) {{\n",
       "    x.observe(outputEl, {childList: true});\n",
       "}}\n",
       "\n",
       "                        })                };                });            </script>        </div>"
      ]
     },
     "metadata": {},
     "output_type": "display_data"
    }
   ],
   "source": [
    "names_sum = list(dict(df_sum.head(10)).keys())\n",
    "counts_sum = list(dict(df_sum.head(10)).values())\n",
    "print(names_sum)\n",
    "print(counts_sum)\n",
    "fig = go.Figure(data=[go.Table(\n",
    "    columnwidth = [10,50,40],\n",
    "    header=dict(values=['','Name', '# of mentions'], align=['left', 'center', 'left']),\n",
    "    cells=dict(values=[[x for x in range(1, 11)],[name.capitalize() for name in names_sum], counts_sum], align=['left', 'center', 'left'],))\n",
    "                     ])\n",
    "fig.update_layout(width=300, height=310)\n",
    "fig['layout'].update(margin=dict(l=0,r=0,b=0,t=0))\n",
    "#fig.write_image(str(data_path.joinpath(\"top10names.png\")))\n",
    "fig.show()"
   ]
  },
  {
   "cell_type": "code",
   "execution_count": null,
   "metadata": {},
   "outputs": [],
   "source": []
  }
 ],
 "metadata": {
  "kernelspec": {
   "display_name": "Python 3",
   "language": "python",
   "name": "python3"
  },
  "language_info": {
   "codemirror_mode": {
    "name": "ipython",
    "version": 3
   },
   "file_extension": ".py",
   "mimetype": "text/x-python",
   "name": "python",
   "nbconvert_exporter": "python",
   "pygments_lexer": "ipython3",
   "version": "3.9.1"
  }
 },
 "nbformat": 4,
 "nbformat_minor": 2
}
